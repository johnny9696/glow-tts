{
 "cells": [
  {
   "cell_type": "code",
   "execution_count": 1,
   "id": "da61e402",
   "metadata": {},
   "outputs": [],
   "source": [
    "import json\n",
    "import os\n",
    "import argparse\n",
    "import sys\n",
    "\n",
    "import torch\n",
    "from torch import nn, optim\n",
    "from torch.nn import functional as F\n",
    "from speaker_encoder import Convolution_LSTM_classification as model\n",
    "\n",
    "sys.path.append(os.path.dirname(os.path.abspath(os.path.dirname(\"\"))))\n",
    "import commons\n",
    "import utils\n",
    "from utils import load_filepaths_and_text, load_wav_to_torch"
   ]
  },
  {
   "cell_type": "code",
   "execution_count": 2,
   "id": "cede999d",
   "metadata": {},
   "outputs": [],
   "source": [
    "def audio_processing(audio_path, hps):\n",
    "    audio, sr = load_wav_to_torch(audio_path)\n",
    "    audio_norm = audio/ hps.data.max_wav_value\n",
    "    audio_norm = audio_norm.unsqueeze(0)\n",
    "    stft = commons.TacotronSTFT(hps.data.filter_length, hps.data.hop_length, \n",
    "                               hps.data.win_length, hps.data.n_mel_channels, \n",
    "                               hps.data.sampling_rate, hps.data.mel_fmin,\n",
    "                               hps.data.mel_fmax)\n",
    "    melspec = stft.mel_spectrogram(audio_norm)\n",
    "    melspec = torch.squeeze(torch.tensor(melspec),0)\n",
    "    melspec = torch.abs(melspec)\n",
    "    \n",
    "    frames = hps.data.slice_length\n",
    "    mel_padded = torch.FloatTensor(1, hps.data.n_mel_channels, frames)\n",
    "    mel_padded.zero_()\n",
    "    if melspec.size(1) < frames:\n",
    "        mel_padded[:, :, :melspec.size(1)] = melspec\n",
    "    else : \n",
    "        mel_padded[:, :, :frames] = melspec[:, :frames]\n",
    "    return mel_padded/torch.max(mel_padded)"
   ]
  },
  {
   "cell_type": "code",
   "execution_count": 30,
   "id": "3ea0e1af",
   "metadata": {},
   "outputs": [
    {
     "name": "stdout",
     "output_type": "stream",
     "text": [
      "/media/caijb/data_drive/autoencoder/log/kernel5_conv_512LSTM5/G_499.pth\n",
      "INFO:root:Loaded checkpoint '/media/caijb/data_drive/autoencoder/log/kernel5_conv_512LSTM5/G_499.pth' (iteration 499)\n"
     ]
    }
   ],
   "source": [
    "saved_model_path = \"/media/caijb/data_drive/autoencoder/log/kernel5_conv_512LSTM5/\"\n",
    "config_path = os.path.join(saved_model_path, \"config.json\")\n",
    "with open(config_path,\"r\") as f:\n",
    "        data = f.read()\n",
    "config = json.loads(data)\n",
    "hps = utils.HParams(**config)\n",
    "\n",
    "\n",
    "checkpoint_path = utils.latest_checkpoint_path(saved_model_path)\n",
    "CAC = model(encoder_dim = hps.data.slice_length, hidden_dim1= hps.model.hidden_dim1,\n",
    "    hidden_dim2=hps.model.hidden_dim2, hiddem_dim3= hps.model.hidden_dim3,\n",
    "    l_hidden=hps.model.l_hidden, num_layers=hps.model.num_layers, embedding_size=hps.model.embedding_size,\n",
    "    n_speaker = hps.model.output_channel )\n",
    "\n",
    "CAC, _, _, _ = utils.load_checkpoint(checkpoint_path, CAC)"
   ]
  },
  {
   "cell_type": "code",
   "execution_count": 45,
   "id": "88f4ad98",
   "metadata": {},
   "outputs": [
    {
     "name": "stdout",
     "output_type": "stream",
     "text": [
      "/media/caijb/data_drive/data/chinese/call_to_arms/call_to_arms_0000.wav\n"
     ]
    },
    {
     "name": "stderr",
     "output_type": "stream",
     "text": [
      "/home/caijb/Desktop/zero_shot_glowtts/stft.py:68: FutureWarning: Pass size=1024 as keyword args. From version 0.10 passing these as positional arguments will result in an error\n",
      "  fft_window = pad_center(fft_window, filter_length)\n",
      "/home/caijb/Desktop/zero_shot_glowtts/commons.py:172: FutureWarning: Pass sr=22050, n_fft=1024, n_mels=80, fmin=0.0, fmax=8000.0 as keyword args. From version 0.10 passing these as positional arguments will result in an error\n",
      "  sampling_rate, filter_length, n_mel_channels, mel_fmin, mel_fmax)\n",
      "/home/caijb/anaconda3/envs/pytts/lib/python3.7/site-packages/ipykernel_launcher.py:10: UserWarning: To copy construct from a tensor, it is recommended to use sourceTensor.clone().detach() or sourceTensor.clone().detach().requires_grad_(True), rather than torch.tensor(sourceTensor).\n",
      "  # Remove the CWD from sys.path while we load stuff.\n"
     ]
    },
    {
     "name": "stdout",
     "output_type": "stream",
     "text": [
      "/media/caijb/data_drive/data/chinese/call_to_arms/call_to_arms_0001.wav\n",
      "/media/caijb/data_drive/data/chinese/call_to_arms/call_to_arms_0010.wav\n",
      "/media/caijb/data_drive/data/chinese/call_to_arms/call_to_arms_0011.wav\n",
      "/media/caijb/data_drive/data/chinese/call_to_arms/call_to_arms_0020.wav\n",
      "/media/caijb/data_drive/data/chinese/call_to_arms/call_to_arms_0021.wav\n",
      "/media/caijb/data_drive/data/chinese/call_to_arms/call_to_arms_0030.wav\n",
      "/media/caijb/data_drive/data/chinese/call_to_arms/call_to_arms_0031.wav\n",
      "/media/caijb/data_drive/data/chinese/call_to_arms/call_to_arms_0040.wav\n",
      "/media/caijb/data_drive/data/chinese/call_to_arms/call_to_arms_0041.wav\n",
      "/media/caijb/data_drive/data/chinese/call_to_arms/call_to_arms_0050.wav\n",
      "/media/caijb/data_drive/data/chinese/call_to_arms/call_to_arms_0051.wav\n",
      "/media/caijb/data_drive/data/chinese/call_to_arms/call_to_arms_0060.wav\n",
      "/media/caijb/data_drive/data/chinese/call_to_arms/call_to_arms_0061.wav\n",
      "/media/caijb/data_drive/data/chinese/call_to_arms/call_to_arms_0070.wav\n",
      "/media/caijb/data_drive/data/chinese/call_to_arms/call_to_arms_0071.wav\n",
      "/media/caijb/data_drive/data/chinese/call_to_arms/call_to_arms_0080.wav\n",
      "/media/caijb/data_drive/data/chinese/call_to_arms/call_to_arms_0081.wav\n",
      "/media/caijb/data_drive/data/chinese/call_to_arms/call_to_arms_0090.wav\n",
      "/media/caijb/data_drive/data/chinese/call_to_arms/call_to_arms_0091.wav\n",
      "/media/caijb/data_drive/data/dutch/20000_mijlen/20000_mijlen_1341.wav\n",
      "/media/caijb/data_drive/data/dutch/20000_mijlen/20000_mijlen_1350.wav\n",
      "/media/caijb/data_drive/data/dutch/20000_mijlen/20000_mijlen_1351.wav\n",
      "/media/caijb/data_drive/data/dutch/20000_mijlen/20000_mijlen_1360.wav\n",
      "/media/caijb/data_drive/data/dutch/20000_mijlen/20000_mijlen_1361.wav\n",
      "/media/caijb/data_drive/data/dutch/20000_mijlen/20000_mijlen_1370.wav\n",
      "/media/caijb/data_drive/data/dutch/20000_mijlen/20000_mijlen_1371.wav\n",
      "/media/caijb/data_drive/data/dutch/20000_mijlen/20000_mijlen_1380.wav\n",
      "/media/caijb/data_drive/data/dutch/20000_mijlen/20000_mijlen_1381.wav\n",
      "/media/caijb/data_drive/data/dutch/20000_mijlen/20000_mijlen_1390.wav\n",
      "/media/caijb/data_drive/data/dutch/20000_mijlen/20000_mijlen_1391.wav\n",
      "/media/caijb/data_drive/data/dutch/20000_mijlen/20000_mijlen_1400.wav\n",
      "/media/caijb/data_drive/data/dutch/20000_mijlen/20000_mijlen_1401.wav\n",
      "/media/caijb/data_drive/data/dutch/20000_mijlen/20000_mijlen_1410.wav\n",
      "/media/caijb/data_drive/data/dutch/20000_mijlen/20000_mijlen_1411.wav\n",
      "/media/caijb/data_drive/data/dutch/20000_mijlen/20000_mijlen_1420.wav\n",
      "/media/caijb/data_drive/data/dutch/20000_mijlen/20000_mijlen_1421.wav\n",
      "/media/caijb/data_drive/data/dutch/20000_mijlen/20000_mijlen_1430.wav\n",
      "/media/caijb/data_drive/data/dutch/20000_mijlen/20000_mijlen_1431.wav\n",
      "/media/caijb/data_drive/data/dutch/20000_mijlen/20000_mijlen_1440.wav\n",
      "/media/caijb/data_drive/data/spanish/19demarzo/19demarzo_3076.wav\n",
      "/media/caijb/data_drive/data/spanish/19demarzo/19demarzo_3085.wav\n",
      "/media/caijb/data_drive/data/spanish/19demarzo/19demarzo_3086.wav\n",
      "/media/caijb/data_drive/data/spanish/19demarzo/19demarzo_3095.wav\n",
      "/media/caijb/data_drive/data/spanish/19demarzo/19demarzo_3096.wav\n",
      "/media/caijb/data_drive/data/spanish/19demarzo/19demarzo_3105.wav\n",
      "/media/caijb/data_drive/data/spanish/19demarzo/19demarzo_3106.wav\n",
      "/media/caijb/data_drive/data/spanish/19demarzo/19demarzo_3115.wav\n",
      "/media/caijb/data_drive/data/spanish/19demarzo/19demarzo_3116.wav\n",
      "/media/caijb/data_drive/data/spanish/19demarzo/19demarzo_3125.wav\n",
      "/media/caijb/data_drive/data/spanish/19demarzo/19demarzo_3126.wav\n",
      "/media/caijb/data_drive/data/spanish/19demarzo/19demarzo_3135.wav\n",
      "/media/caijb/data_drive/data/spanish/19demarzo/19demarzo_3136.wav\n",
      "/media/caijb/data_drive/data/spanish/19demarzo/19demarzo_3145.wav\n",
      "/media/caijb/data_drive/data/spanish/19demarzo/19demarzo_3146.wav\n",
      "/media/caijb/data_drive/data/spanish/19demarzo/19demarzo_3155.wav\n",
      "/media/caijb/data_drive/data/spanish/19demarzo/19demarzo_3156.wav\n",
      "/media/caijb/data_drive/data/spanish/19demarzo/19demarzo_3165.wav\n",
      "/media/caijb/data_drive/data/spanish/19demarzo/19demarzo_3166.wav\n",
      "/media/caijb/data_drive/data/spanish/19demarzo/19demarzo_3175.wav\n",
      "/media/caijb/data_drive/data/finnish/gulliverin_matkat_kaukaisilla_mailla/gulliverin_matkat_kaukaisilla_mailla_1749.wav\n",
      "/media/caijb/data_drive/data/finnish/gulliverin_matkat_kaukaisilla_mailla/gulliverin_matkat_kaukaisilla_mailla_1758.wav\n",
      "/media/caijb/data_drive/data/finnish/gulliverin_matkat_kaukaisilla_mailla/gulliverin_matkat_kaukaisilla_mailla_1759.wav\n",
      "/media/caijb/data_drive/data/finnish/gulliverin_matkat_kaukaisilla_mailla/gulliverin_matkat_kaukaisilla_mailla_1768.wav\n",
      "/media/caijb/data_drive/data/finnish/gulliverin_matkat_kaukaisilla_mailla/gulliverin_matkat_kaukaisilla_mailla_1769.wav\n",
      "/media/caijb/data_drive/data/finnish/gulliverin_matkat_kaukaisilla_mailla/gulliverin_matkat_kaukaisilla_mailla_1778.wav\n",
      "/media/caijb/data_drive/data/finnish/gulliverin_matkat_kaukaisilla_mailla/gulliverin_matkat_kaukaisilla_mailla_1779.wav\n",
      "/media/caijb/data_drive/data/finnish/gulliverin_matkat_kaukaisilla_mailla/gulliverin_matkat_kaukaisilla_mailla_1788.wav\n",
      "/media/caijb/data_drive/data/finnish/gulliverin_matkat_kaukaisilla_mailla/gulliverin_matkat_kaukaisilla_mailla_1789.wav\n",
      "/media/caijb/data_drive/data/finnish/gulliverin_matkat_kaukaisilla_mailla/gulliverin_matkat_kaukaisilla_mailla_1798.wav\n",
      "/media/caijb/data_drive/data/finnish/gulliverin_matkat_kaukaisilla_mailla/gulliverin_matkat_kaukaisilla_mailla_1799.wav\n",
      "/media/caijb/data_drive/data/finnish/gulliverin_matkat_kaukaisilla_mailla/gulliverin_matkat_kaukaisilla_mailla_1808.wav\n",
      "/media/caijb/data_drive/data/finnish/gulliverin_matkat_kaukaisilla_mailla/gulliverin_matkat_kaukaisilla_mailla_1809.wav\n",
      "/media/caijb/data_drive/data/finnish/gulliverin_matkat_kaukaisilla_mailla/gulliverin_matkat_kaukaisilla_mailla_1818.wav\n",
      "/media/caijb/data_drive/data/finnish/gulliverin_matkat_kaukaisilla_mailla/gulliverin_matkat_kaukaisilla_mailla_1819.wav\n",
      "/media/caijb/data_drive/data/finnish/gulliverin_matkat_kaukaisilla_mailla/gulliverin_matkat_kaukaisilla_mailla_1828.wav\n",
      "/media/caijb/data_drive/data/finnish/gulliverin_matkat_kaukaisilla_mailla/gulliverin_matkat_kaukaisilla_mailla_1829.wav\n",
      "/media/caijb/data_drive/data/finnish/gulliverin_matkat_kaukaisilla_mailla/gulliverin_matkat_kaukaisilla_mailla_1838.wav\n",
      "/media/caijb/data_drive/data/finnish/gulliverin_matkat_kaukaisilla_mailla/gulliverin_matkat_kaukaisilla_mailla_1839.wav\n",
      "/media/caijb/data_drive/data/finnish/gulliverin_matkat_kaukaisilla_mailla/gulliverin_matkat_kaukaisilla_mailla_1848.wav\n",
      "/media/caijb/data_drive/data/french/lesmis/lesmis_2686.wav\n",
      "/media/caijb/data_drive/data/french/lesmis/lesmis_2687.wav\n",
      "/media/caijb/data_drive/data/french/lesmis/lesmis_2696.wav\n",
      "/media/caijb/data_drive/data/french/lesmis/lesmis_2697.wav\n",
      "/media/caijb/data_drive/data/french/lesmis/lesmis_2706.wav\n",
      "/media/caijb/data_drive/data/french/lesmis/lesmis_2707.wav\n",
      "/media/caijb/data_drive/data/french/lesmis/lesmis_2716.wav\n",
      "/media/caijb/data_drive/data/french/lesmis/lesmis_2717.wav\n",
      "/media/caijb/data_drive/data/french/lesmis/lesmis_2726.wav\n",
      "/media/caijb/data_drive/data/french/lesmis/lesmis_2727.wav\n",
      "/media/caijb/data_drive/data/french/lesmis/lesmis_2736.wav\n",
      "/media/caijb/data_drive/data/french/lesmis/lesmis_2737.wav\n",
      "/media/caijb/data_drive/data/french/lesmis/lesmis_2746.wav\n",
      "/media/caijb/data_drive/data/french/lesmis/lesmis_2747.wav\n",
      "/media/caijb/data_drive/data/french/lesmis/lesmis_2756.wav\n",
      "/media/caijb/data_drive/data/french/lesmis/lesmis_2757.wav\n",
      "/media/caijb/data_drive/data/french/lesmis/lesmis_2766.wav\n",
      "/media/caijb/data_drive/data/french/lesmis/lesmis_2767.wav\n",
      "/media/caijb/data_drive/data/french/lesmis/lesmis_2776.wav\n",
      "/media/caijb/data_drive/data/french/lesmis/lesmis_2777.wav\n"
     ]
    }
   ],
   "source": [
    "text_path = \"/media/caijb/data_drive/data/Zeroshot/CAE_seen_test.txt\"\n",
    "with open(text_path, \"r\") as f:\n",
    "    data = f.read()\n",
    "    data = data.split(\"\\n\")\n",
    "\n",
    "    \n",
    "result = []\n",
    "for i in data:\n",
    "    i = i.split(\"|\")\n",
    "    audio_path, sid = i[0], i[1]\n",
    "    print(audio_path)\n",
    "    mel = audio_processing(audio_path, hps)\n",
    "    vector = CAC.get_vector(mel)\n",
    "    vector = vector.squeeze()\n",
    "    temp_vector = vector.tolist()\n",
    "    temp_vector.append(int(sid))\n",
    "    result.append(temp_vector)\n"
   ]
  },
  {
   "cell_type": "code",
   "execution_count": 46,
   "id": "11632563",
   "metadata": {},
   "outputs": [],
   "source": [
    "import pandas as pd\n",
    "\n",
    "df = pd.DataFrame(result)\n",
    "df.to_csv(\"./result_clasification_unseen.csv\")"
   ]
  },
  {
   "cell_type": "code",
   "execution_count": null,
   "id": "999b1bcf",
   "metadata": {},
   "outputs": [],
   "source": []
  },
  {
   "cell_type": "code",
   "execution_count": 47,
   "id": "336cf175",
   "metadata": {},
   "outputs": [
    {
     "data": {
      "text/html": [
       "<div>\n",
       "<style scoped>\n",
       "    .dataframe tbody tr th:only-of-type {\n",
       "        vertical-align: middle;\n",
       "    }\n",
       "\n",
       "    .dataframe tbody tr th {\n",
       "        vertical-align: top;\n",
       "    }\n",
       "\n",
       "    .dataframe thead th {\n",
       "        text-align: right;\n",
       "    }\n",
       "</style>\n",
       "<table border=\"1\" class=\"dataframe\">\n",
       "  <thead>\n",
       "    <tr style=\"text-align: right;\">\n",
       "      <th></th>\n",
       "      <th>0</th>\n",
       "      <th>1</th>\n",
       "      <th>2</th>\n",
       "      <th>3</th>\n",
       "      <th>4</th>\n",
       "      <th>5</th>\n",
       "      <th>6</th>\n",
       "      <th>7</th>\n",
       "      <th>8</th>\n",
       "      <th>9</th>\n",
       "      <th>...</th>\n",
       "      <th>247</th>\n",
       "      <th>248</th>\n",
       "      <th>249</th>\n",
       "      <th>250</th>\n",
       "      <th>251</th>\n",
       "      <th>252</th>\n",
       "      <th>253</th>\n",
       "      <th>254</th>\n",
       "      <th>255</th>\n",
       "      <th>256</th>\n",
       "    </tr>\n",
       "  </thead>\n",
       "  <tbody>\n",
       "    <tr>\n",
       "      <th>0</th>\n",
       "      <td>0.0</td>\n",
       "      <td>0.000000</td>\n",
       "      <td>0.0</td>\n",
       "      <td>11.041972</td>\n",
       "      <td>0.995719</td>\n",
       "      <td>0.0</td>\n",
       "      <td>4.580027</td>\n",
       "      <td>0.0</td>\n",
       "      <td>0.0</td>\n",
       "      <td>3.084972</td>\n",
       "      <td>...</td>\n",
       "      <td>0.000000</td>\n",
       "      <td>0.0</td>\n",
       "      <td>9.840882</td>\n",
       "      <td>7.867232</td>\n",
       "      <td>0.0</td>\n",
       "      <td>0.0</td>\n",
       "      <td>1.422468</td>\n",
       "      <td>0.0</td>\n",
       "      <td>0.0</td>\n",
       "      <td>125</td>\n",
       "    </tr>\n",
       "    <tr>\n",
       "      <th>1</th>\n",
       "      <td>0.0</td>\n",
       "      <td>0.000000</td>\n",
       "      <td>0.0</td>\n",
       "      <td>9.841460</td>\n",
       "      <td>0.000000</td>\n",
       "      <td>0.0</td>\n",
       "      <td>10.919756</td>\n",
       "      <td>0.0</td>\n",
       "      <td>0.0</td>\n",
       "      <td>5.574573</td>\n",
       "      <td>...</td>\n",
       "      <td>0.630861</td>\n",
       "      <td>0.0</td>\n",
       "      <td>3.369169</td>\n",
       "      <td>3.827688</td>\n",
       "      <td>0.0</td>\n",
       "      <td>0.0</td>\n",
       "      <td>9.533374</td>\n",
       "      <td>0.0</td>\n",
       "      <td>0.0</td>\n",
       "      <td>125</td>\n",
       "    </tr>\n",
       "    <tr>\n",
       "      <th>2</th>\n",
       "      <td>0.0</td>\n",
       "      <td>0.911783</td>\n",
       "      <td>0.0</td>\n",
       "      <td>9.269899</td>\n",
       "      <td>0.107807</td>\n",
       "      <td>0.0</td>\n",
       "      <td>10.268043</td>\n",
       "      <td>0.0</td>\n",
       "      <td>0.0</td>\n",
       "      <td>7.407763</td>\n",
       "      <td>...</td>\n",
       "      <td>0.000000</td>\n",
       "      <td>0.0</td>\n",
       "      <td>4.326474</td>\n",
       "      <td>2.919570</td>\n",
       "      <td>0.0</td>\n",
       "      <td>0.0</td>\n",
       "      <td>6.821957</td>\n",
       "      <td>0.0</td>\n",
       "      <td>0.0</td>\n",
       "      <td>125</td>\n",
       "    </tr>\n",
       "    <tr>\n",
       "      <th>3</th>\n",
       "      <td>0.0</td>\n",
       "      <td>0.000000</td>\n",
       "      <td>0.0</td>\n",
       "      <td>9.767079</td>\n",
       "      <td>1.615553</td>\n",
       "      <td>0.0</td>\n",
       "      <td>7.445603</td>\n",
       "      <td>0.0</td>\n",
       "      <td>0.0</td>\n",
       "      <td>4.051657</td>\n",
       "      <td>...</td>\n",
       "      <td>0.000000</td>\n",
       "      <td>0.0</td>\n",
       "      <td>9.205134</td>\n",
       "      <td>5.844941</td>\n",
       "      <td>0.0</td>\n",
       "      <td>0.0</td>\n",
       "      <td>3.908529</td>\n",
       "      <td>0.0</td>\n",
       "      <td>0.0</td>\n",
       "      <td>125</td>\n",
       "    </tr>\n",
       "    <tr>\n",
       "      <th>4</th>\n",
       "      <td>0.0</td>\n",
       "      <td>0.000000</td>\n",
       "      <td>0.0</td>\n",
       "      <td>9.020320</td>\n",
       "      <td>1.270129</td>\n",
       "      <td>0.0</td>\n",
       "      <td>9.298877</td>\n",
       "      <td>0.0</td>\n",
       "      <td>0.0</td>\n",
       "      <td>4.423058</td>\n",
       "      <td>...</td>\n",
       "      <td>0.000000</td>\n",
       "      <td>0.0</td>\n",
       "      <td>8.186575</td>\n",
       "      <td>5.413425</td>\n",
       "      <td>0.0</td>\n",
       "      <td>0.0</td>\n",
       "      <td>7.835948</td>\n",
       "      <td>0.0</td>\n",
       "      <td>0.0</td>\n",
       "      <td>125</td>\n",
       "    </tr>\n",
       "  </tbody>\n",
       "</table>\n",
       "<p>5 rows × 257 columns</p>\n",
       "</div>"
      ],
      "text/plain": [
       "   0         1    2          3         4    5          6    7    8    \\\n",
       "0  0.0  0.000000  0.0  11.041972  0.995719  0.0   4.580027  0.0  0.0   \n",
       "1  0.0  0.000000  0.0   9.841460  0.000000  0.0  10.919756  0.0  0.0   \n",
       "2  0.0  0.911783  0.0   9.269899  0.107807  0.0  10.268043  0.0  0.0   \n",
       "3  0.0  0.000000  0.0   9.767079  1.615553  0.0   7.445603  0.0  0.0   \n",
       "4  0.0  0.000000  0.0   9.020320  1.270129  0.0   9.298877  0.0  0.0   \n",
       "\n",
       "        9    ...       247  248       249       250  251  252       253  254  \\\n",
       "0  3.084972  ...  0.000000  0.0  9.840882  7.867232  0.0  0.0  1.422468  0.0   \n",
       "1  5.574573  ...  0.630861  0.0  3.369169  3.827688  0.0  0.0  9.533374  0.0   \n",
       "2  7.407763  ...  0.000000  0.0  4.326474  2.919570  0.0  0.0  6.821957  0.0   \n",
       "3  4.051657  ...  0.000000  0.0  9.205134  5.844941  0.0  0.0  3.908529  0.0   \n",
       "4  4.423058  ...  0.000000  0.0  8.186575  5.413425  0.0  0.0  7.835948  0.0   \n",
       "\n",
       "   255  256  \n",
       "0  0.0  125  \n",
       "1  0.0  125  \n",
       "2  0.0  125  \n",
       "3  0.0  125  \n",
       "4  0.0  125  \n",
       "\n",
       "[5 rows x 257 columns]"
      ]
     },
     "execution_count": 47,
     "metadata": {},
     "output_type": "execute_result"
    }
   ],
   "source": [
    "import matplotlib.pyplot as plt\n",
    "df.head()"
   ]
  },
  {
   "cell_type": "code",
   "execution_count": 48,
   "id": "680aa21e",
   "metadata": {},
   "outputs": [],
   "source": [
    "y = df[[256]]\n",
    "\n",
    "y =y.replace(125,0)\n",
    "y =y.replace(124,1)\n",
    "y =y.replace(113,2)\n",
    "y =y.replace(115,3)\n",
    "y =y.replace(114,4)\n",
    "\n",
    "\"\"\"\n",
    "y =y.replace(2,0)\n",
    "y =y.replace(3,1)\n",
    "y =y.replace(4,2)\n",
    "y =y.replace(5,3)\n",
    "y =y.replace(6,4)\n",
    "\"\"\"\n",
    "x = df.drop([256],axis =1)"
   ]
  },
  {
   "cell_type": "code",
   "execution_count": 49,
   "id": "c168893c",
   "metadata": {},
   "outputs": [],
   "source": [
    "from sklearn.preprocessing import StandardScaler\n",
    "\n",
    "scaler = StandardScaler()\n",
    "x_scaled = scaler.fit_transform(x)"
   ]
  },
  {
   "cell_type": "code",
   "execution_count": 50,
   "id": "159b9085",
   "metadata": {},
   "outputs": [],
   "source": [
    "from sklearn.decomposition import PCA\n",
    "pca =PCA(n_components = 2)\n",
    "pca.fit(x_scaled)\n",
    "x_pca = pca.transform(x_scaled)\n",
    "x_pca= pd.DataFrame(x_pca)\n",
    "x_pca['target']=y"
   ]
  },
  {
   "cell_type": "code",
   "execution_count": 51,
   "id": "8a1798ae",
   "metadata": {
    "scrolled": false
   },
   "outputs": [],
   "source": [
    "markers = ['o', '^', 's', 'x','p']\n",
    "#name = ['125', '124','113', '115', '114']\n",
    "name = ['jing Li','Bart de Leeuw','Tux','HarroTapani Ylilammi','Gilles G.Le Blanc']\n",
    "sid_list = [125, 124, 113, 115, 114]"
   ]
  },
  {
   "cell_type": "code",
   "execution_count": 52,
   "id": "2acac266",
   "metadata": {
    "scrolled": true
   },
   "outputs": [
    {
     "data": {
      "image/png": "[encoded data removed]",
      "text/plain": [
       "<Figure size 360x360 with 1 Axes>"
      ]
     },
     "metadata": {
      "needs_background": "light"
     },
     "output_type": "display_data"
    }
   ],
   "source": [
    "fig = plt.figure(figsize=(5,5))\n",
    "#ax = fig.gca(projection='3d')\n",
    "for i, marker in enumerate(markers) :\n",
    "    x_axis = x_pca[x_pca['target']==i][0]\n",
    "    y_axis = x_pca[x_pca['target']==i][1]\n",
    "    \n",
    "    plt.scatter(x_axis,y_axis, marker=marker, label = name[i])\n",
    "\n",
    "plt.legend(loc='upper right')\n",
    "plt.xlabel('component 1')\n",
    "plt.ylabel('component 2')\n",
    "plt.show()"
   ]
  },
  {
   "cell_type": "code",
   "execution_count": 53,
   "id": "cb90d676",
   "metadata": {},
   "outputs": [
    {
     "name": "stderr",
     "output_type": "stream",
     "text": [
      "/home/caijb/anaconda3/envs/pytts/lib/python3.7/site-packages/sklearn/utils/validation.py:993: DataConversionWarning: A column-vector y was passed when a 1d array was expected. Please change the shape of y to (n_samples, ), for example using ravel().\n",
      "  y = column_or_1d(y, warn=True)\n"
     ]
    }
   ],
   "source": [
    "from sklearn.discriminant_analysis import LinearDiscriminantAnalysis\n",
    "lda= LinearDiscriminantAnalysis(n_components =2)\n",
    "#scaler = StandardScaler()\n",
    "#x_scaled = scaler.fit_transform(x)\n",
    "lda.fit(x_scaled,y)\n",
    "x_lda = lda.transform(x_scaled)\n",
    "x_lda = pd.DataFrame(x_lda)\n",
    "x_lda['target'] = y"
   ]
  },
  {
   "cell_type": "code",
   "execution_count": null,
   "id": "3aa03b49",
   "metadata": {},
   "outputs": [],
   "source": []
  },
  {
   "cell_type": "code",
   "execution_count": 54,
   "id": "58c08144",
   "metadata": {},
   "outputs": [
    {
     "data": {
      "image/png": "[encoded data removed]",
      "text/plain": [
       "<Figure size 504x504 with 1 Axes>"
      ]
     },
     "metadata": {
      "needs_background": "light"
     },
     "output_type": "display_data"
    }
   ],
   "source": [
    "fig = plt.figure(figsize=(7,7))\n",
    "#ax = fig.gca(projection='3d')\n",
    "for i, marker in enumerate(markers) :\n",
    "    x_axis = x_lda[x_lda['target']==i][0]\n",
    "    y_axis = x_lda[x_lda['target']==i][1]\n",
    "    plt.scatter(x_axis,y_axis, marker=marker, label = name[i])\n",
    "\n",
    "plt.legend(loc='lower left')\n",
    "plt.xlabel('component 1')\n",
    "plt.ylabel('component 2')\n",
    "plt.show()"
   ]
  },
  {
   "cell_type": "code",
   "execution_count": 20,
   "id": "68a1b091",
   "metadata": {},
   "outputs": [
    {
     "ename": "NameError",
     "evalue": "name 'df_new' is not defined",
     "output_type": "error",
     "traceback": [
      "\u001b[0;31m---------------------------------------------------------------------------\u001b[0m",
      "\u001b[0;31mNameError\u001b[0m                                 Traceback (most recent call last)",
      "\u001b[0;32m/tmp/ipykernel_2688780/3688003337.py\u001b[0m in \u001b[0;36m<module>\u001b[0;34m\u001b[0m\n\u001b[1;32m      1\u001b[0m \u001b[0;31m#df_new = pd.read_csv(\"./result_unseen.csv\")\u001b[0m\u001b[0;34m\u001b[0m\u001b[0;34m\u001b[0m\u001b[0;34m\u001b[0m\u001b[0m\n\u001b[0;32m----> 2\u001b[0;31m \u001b[0mdf_key\u001b[0m \u001b[0;34m=\u001b[0m\u001b[0mdf_new\u001b[0m\u001b[0;34m.\u001b[0m\u001b[0mkeys\u001b[0m\u001b[0;34m(\u001b[0m\u001b[0;34m)\u001b[0m\u001b[0;34m\u001b[0m\u001b[0;34m\u001b[0m\u001b[0m\n\u001b[0m\u001b[1;32m      3\u001b[0m \u001b[0mx_new\u001b[0m \u001b[0;34m=\u001b[0m\u001b[0mdf_new\u001b[0m\u001b[0;34m.\u001b[0m\u001b[0mloc\u001b[0m\u001b[0;34m[\u001b[0m\u001b[0;34m:\u001b[0m\u001b[0;34m,\u001b[0m\u001b[0;34m'0'\u001b[0m\u001b[0;34m:\u001b[0m\u001b[0;34m'255'\u001b[0m\u001b[0;34m]\u001b[0m\u001b[0;34m\u001b[0m\u001b[0;34m\u001b[0m\u001b[0m\n\u001b[1;32m      4\u001b[0m \u001b[0my_new\u001b[0m \u001b[0;34m=\u001b[0m\u001b[0mdf_new\u001b[0m\u001b[0;34m[\u001b[0m\u001b[0;34m'256'\u001b[0m\u001b[0;34m]\u001b[0m\u001b[0;34m\u001b[0m\u001b[0;34m\u001b[0m\u001b[0m\n\u001b[1;32m      5\u001b[0m \u001b[0mx_new\u001b[0m\u001b[0;34m.\u001b[0m\u001b[0mhead\u001b[0m\u001b[0;34m(\u001b[0m\u001b[0;34m)\u001b[0m\u001b[0;34m\u001b[0m\u001b[0;34m\u001b[0m\u001b[0m\n",
      "\u001b[0;31mNameError\u001b[0m: name 'df_new' is not defined"
     ]
    }
   ],
   "source": [
    "#df_new = pd.read_csv(\"./result_unseen.csv\")\n",
    "df_key =df_new.keys()\n",
    "x_new =df_new.loc[:,'0':'255']\n",
    "y_new =df_new['256']\n",
    "x_new.head()"
   ]
  },
  {
   "cell_type": "code",
   "execution_count": null,
   "id": "01ba4773",
   "metadata": {},
   "outputs": [],
   "source": [
    "x_new_scaled = scaler.fit_transform(x_new)\n",
    "x_new_lda = pca.transform(x_new_scaled)\n",
    "x_new_lda = pd.DataFrame(x_new_lda)\n",
    "\n",
    "y_new=y_new.replace(125,0)\n",
    "y_new =y_new.replace(124,1)\n",
    "y_new =y_new.replace(113,2)\n",
    "y_new =y_new.replace(115,3)\n",
    "y_new =y_new.replace(114,4)\n",
    "\n",
    "x_new_lda['target'] = y_new\n",
    "x_new_lda.head()"
   ]
  },
  {
   "cell_type": "code",
   "execution_count": null,
   "id": "31f2786e",
   "metadata": {},
   "outputs": [],
   "source": [
    "fig = plt.figure(figsize=(10,10))\n",
    "#ax = fig.gca(projection='3d')\n",
    "for i, marker in enumerate(markers) :\n",
    "    x_axis = x_new_lda[x_new_lda['target']==i][0]\n",
    "    y_axis = x_new_lda[x_new_lda['target']==i][1]\n",
    "    plt.scatter(x_axis,y_axis, marker=marker, label = name[i])\n",
    "\n",
    "plt.legend(loc='upper left')\n",
    "plt.xlabel('component 1')\n",
    "plt.ylabel('component 2')\n",
    "plt.show()"
   ]
  },
  {
   "cell_type": "code",
   "execution_count": null,
   "id": "e7d5a993",
   "metadata": {},
   "outputs": [],
   "source": []
  }
 ],
 "metadata": {
  "kernelspec": {
   "display_name": "Python 3 (ipykernel)",
   "language": "python",
   "name": "python3"
  },
  "language_info": {
   "codemirror_mode": {
    "name": "ipython",
    "version": 3
   },
   "file_extension": ".py",
   "mimetype": "text/x-python",
   "name": "python",
   "nbconvert_exporter": "python",
   "pygments_lexer": "ipython3",
   "version": "3.7.13"
  }
 },
 "nbformat": 4,
 "nbformat_minor": 5
}
