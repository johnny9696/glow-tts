{
 "cells": [
  {
   "cell_type": "code",
   "execution_count": 1,
   "id": "29b5128a",
   "metadata": {},
   "outputs": [],
   "source": [
    "import json\n",
    "import os\n",
    "import argparse\n",
    "import sys\n",
    "\n",
    "import torch\n",
    "from torch import nn, optim\n",
    "from torch.nn import functional as F\n",
    "from speaker_encoder import Convolution_LSTM_cos as model\n",
    "\n",
    "sys.path.append(os.path.dirname(os.path.abspath(os.path.dirname(\"\"))))\n",
    "import commons\n",
    "import utils\n",
    "from utils import load_filepaths_and_text, load_wav_to_torch"
   ]
  },
  {
   "cell_type": "code",
   "execution_count": 2,
   "id": "e6426709",
   "metadata": {},
   "outputs": [],
   "source": [
    "def audio_processing(audio_path, hps):\n",
    "    audio, sr = load_wav_to_torch(audio_path)\n",
    "    audio_norm = audio/ hps.data.max_wav_value\n",
    "    audio_norm = audio_norm.unsqueeze(0)\n",
    "    stft = commons.TacotronSTFT(hps.data.filter_length, hps.data.hop_length, \n",
    "                               hps.data.win_length, hps.data.n_mel_channels, \n",
    "                               hps.data.sampling_rate, hps.data.mel_fmin,\n",
    "                               hps.data.mel_fmax)\n",
    "    melspec = stft.mel_spectrogram(audio_norm)\n",
    "    melspec = torch.squeeze(torch.tensor(melspec),0)\n",
    "    melspec = torch.abs(melspec)\n",
    "    \n",
    "    frames = hps.data.slice_length\n",
    "    mel_padded = torch.FloatTensor(1, hps.data.n_mel_channels, frames)\n",
    "    mel_padded.zero_()\n",
    "    if melspec.size(1) < frames:\n",
    "        mel_padded[:, :, :melspec.size(1)] = melspec\n",
    "    else : \n",
    "        mel_padded[:, :, :frames] = melspec[:, :frames]\n",
    "    return mel_padded/torch.max(mel_padded)"
   ]
  },
  {
   "cell_type": "code",
   "execution_count": 5,
   "id": "0e61286b",
   "metadata": {},
   "outputs": [
    {
     "name": "stdout",
     "output_type": "stream",
     "text": [
      "INFO:root:Loaded checkpoint '/media/caijb/data_drive/GE2E/log/Conv_LSTM512_s/EMB_590.pth' (iteration 590)\n"
     ]
    }
   ],
   "source": [
    "saved_model_path = \"/media/caijb/data_drive/GE2E/log/Conv_LSTM512_s/\"\n",
    "config_path = os.path.join(saved_model_path, \"config.json\")\n",
    "with open(config_path,\"r\") as f:\n",
    "        data = f.read()\n",
    "config = json.loads(data)\n",
    "hps = utils.HParams(**config)\n",
    "\n",
    "\n",
    "#checkpoint_path = utils.latest_checkpoint_path(saved_model_path)\n",
    "checkpoint_path = os.path.join(saved_model_path, 'EMB_590.pth')\n",
    "CAC = model(encoder_dim = hps.data.slice_length, hidden_dim1= hps.model.hidden_dim1,\n",
    "    hidden_dim2=hps.model.hidden_dim2, hiddem_dim3= hps.model.hidden_dim3,\n",
    "    l_hidden=hps.model.l_hidden, num_layers=hps.model.num_layers, embedding_size=hps.model.embedding_size)\n",
    "\n",
    "CAC, _, _, _ = utils.load_checkpoint(checkpoint_path, CAC)"
   ]
  },
  {
   "cell_type": "code",
   "execution_count": 6,
   "id": "4d50f3fe",
   "metadata": {},
   "outputs": [
    {
     "name": "stdout",
     "output_type": "stream",
     "text": [
      "/media/caijb/data_drive/data/vctk/VCTK-Corpus/wav48/p225/p225_009.wav\n"
     ]
    },
    {
     "name": "stderr",
     "output_type": "stream",
     "text": [
      "/home/caijb/Desktop/zero_shot_glowtts/stft.py:68: FutureWarning: Pass size=1024 as keyword args. From version 0.10 passing these as positional arguments will result in an error\n",
      "  fft_window = pad_center(fft_window, filter_length)\n",
      "/home/caijb/Desktop/zero_shot_glowtts/commons.py:172: FutureWarning: Pass sr=22050, n_fft=1024, n_mels=80, fmin=0.0, fmax=8000.0 as keyword args. From version 0.10 passing these as positional arguments will result in an error\n",
      "  sampling_rate, filter_length, n_mel_channels, mel_fmin, mel_fmax)\n",
      "/home/caijb/anaconda3/envs/pytts/lib/python3.7/site-packages/ipykernel_launcher.py:10: UserWarning: To copy construct from a tensor, it is recommended to use sourceTensor.clone().detach() or sourceTensor.clone().detach().requires_grad_(True), rather than torch.tensor(sourceTensor).\n",
      "  # Remove the CWD from sys.path while we load stuff.\n"
     ]
    },
    {
     "name": "stdout",
     "output_type": "stream",
     "text": [
      "/media/caijb/data_drive/data/vctk/VCTK-Corpus/wav48/p225/p225_010.wav\n",
      "/media/caijb/data_drive/data/vctk/VCTK-Corpus/wav48/p225/p225_020.wav\n",
      "/media/caijb/data_drive/data/vctk/VCTK-Corpus/wav48/p225/p225_021.wav\n",
      "/media/caijb/data_drive/data/vctk/VCTK-Corpus/wav48/p225/p225_030.wav\n",
      "/media/caijb/data_drive/data/vctk/VCTK-Corpus/wav48/p225/p225_033.wav\n",
      "/media/caijb/data_drive/data/vctk/VCTK-Corpus/wav48/p225/p225_046.wav\n",
      "/media/caijb/data_drive/data/vctk/VCTK-Corpus/wav48/p225/p225_049.wav\n",
      "/media/caijb/data_drive/data/vctk/VCTK-Corpus/wav48/p225/p225_060.wav\n",
      "/media/caijb/data_drive/data/vctk/VCTK-Corpus/wav48/p225/p225_061.wav\n",
      "/media/caijb/data_drive/data/vctk/VCTK-Corpus/wav48/p225/p225_072.wav\n",
      "/media/caijb/data_drive/data/vctk/VCTK-Corpus/wav48/p225/p225_073.wav\n",
      "/media/caijb/data_drive/data/vctk/VCTK-Corpus/wav48/p225/p225_094.wav\n",
      "/media/caijb/data_drive/data/vctk/VCTK-Corpus/wav48/p225/p225_103.wav\n",
      "/media/caijb/data_drive/data/vctk/VCTK-Corpus/wav48/p225/p225_116.wav\n",
      "/media/caijb/data_drive/data/vctk/VCTK-Corpus/wav48/p225/p225_117.wav\n",
      "/media/caijb/data_drive/data/vctk/VCTK-Corpus/wav48/p225/p225_128.wav\n",
      "/media/caijb/data_drive/data/vctk/VCTK-Corpus/wav48/p225/p225_131.wav\n",
      "/media/caijb/data_drive/data/vctk/VCTK-Corpus/wav48/p225/p225_147.wav\n",
      "/media/caijb/data_drive/data/vctk/VCTK-Corpus/wav48/p225/p225_149.wav\n",
      "/media/caijb/data_drive/data/vctk/VCTK-Corpus/wav48/p226/p226_051.wav\n",
      "/media/caijb/data_drive/data/vctk/VCTK-Corpus/wav48/p226/p226_060.wav\n",
      "/media/caijb/data_drive/data/vctk/VCTK-Corpus/wav48/p226/p226_061.wav\n",
      "/media/caijb/data_drive/data/vctk/VCTK-Corpus/wav48/p226/p226_070.wav\n",
      "/media/caijb/data_drive/data/vctk/VCTK-Corpus/wav48/p226/p226_071.wav\n",
      "/media/caijb/data_drive/data/vctk/VCTK-Corpus/wav48/p226/p226_080.wav\n",
      "/media/caijb/data_drive/data/vctk/VCTK-Corpus/wav48/p226/p226_082.wav\n",
      "/media/caijb/data_drive/data/vctk/VCTK-Corpus/wav48/p226/p226_092.wav\n",
      "/media/caijb/data_drive/data/vctk/VCTK-Corpus/wav48/p226/p226_093.wav\n",
      "/media/caijb/data_drive/data/vctk/VCTK-Corpus/wav48/p226/p226_102.wav\n",
      "/media/caijb/data_drive/data/vctk/VCTK-Corpus/wav48/p226/p226_103.wav\n",
      "/media/caijb/data_drive/data/vctk/VCTK-Corpus/wav48/p226/p226_112.wav\n",
      "/media/caijb/data_drive/data/vctk/VCTK-Corpus/wav48/p226/p226_113.wav\n",
      "/media/caijb/data_drive/data/vctk/VCTK-Corpus/wav48/p226/p226_122.wav\n",
      "/media/caijb/data_drive/data/vctk/VCTK-Corpus/wav48/p226/p226_124.wav\n",
      "/media/caijb/data_drive/data/vctk/VCTK-Corpus/wav48/p226/p226_133.wav\n",
      "/media/caijb/data_drive/data/vctk/VCTK-Corpus/wav48/p226/p226_134.wav\n",
      "/media/caijb/data_drive/data/vctk/VCTK-Corpus/wav48/p226/p226_143.wav\n",
      "/media/caijb/data_drive/data/vctk/VCTK-Corpus/wav48/p226/p226_144.wav\n",
      "/media/caijb/data_drive/data/vctk/VCTK-Corpus/wav48/p226/p226_154.wav\n",
      "/media/caijb/data_drive/data/vctk/VCTK-Corpus/wav48/p227/p227_113.wav\n",
      "/media/caijb/data_drive/data/vctk/VCTK-Corpus/wav48/p227/p227_114.wav\n",
      "/media/caijb/data_drive/data/vctk/VCTK-Corpus/wav48/p227/p227_124.wav\n",
      "/media/caijb/data_drive/data/vctk/VCTK-Corpus/wav48/p227/p227_125.wav\n",
      "/media/caijb/data_drive/data/vctk/VCTK-Corpus/wav48/p227/p227_134.wav\n",
      "/media/caijb/data_drive/data/vctk/VCTK-Corpus/wav48/p227/p227_135.wav\n",
      "/media/caijb/data_drive/data/vctk/VCTK-Corpus/wav48/p227/p227_144.wav\n",
      "/media/caijb/data_drive/data/vctk/VCTK-Corpus/wav48/p227/p227_145.wav\n",
      "/media/caijb/data_drive/data/vctk/VCTK-Corpus/wav48/p227/p227_154.wav\n",
      "/media/caijb/data_drive/data/vctk/VCTK-Corpus/wav48/p227/p227_155.wav\n",
      "/media/caijb/data_drive/data/vctk/VCTK-Corpus/wav48/p227/p227_164.wav\n",
      "/media/caijb/data_drive/data/vctk/VCTK-Corpus/wav48/p227/p227_165.wav\n",
      "/media/caijb/data_drive/data/vctk/VCTK-Corpus/wav48/p227/p227_174.wav\n",
      "/media/caijb/data_drive/data/vctk/VCTK-Corpus/wav48/p227/p227_175.wav\n",
      "/media/caijb/data_drive/data/vctk/VCTK-Corpus/wav48/p227/p227_186.wav\n",
      "/media/caijb/data_drive/data/vctk/VCTK-Corpus/wav48/p227/p227_187.wav\n",
      "/media/caijb/data_drive/data/vctk/VCTK-Corpus/wav48/p227/p227_196.wav\n",
      "/media/caijb/data_drive/data/vctk/VCTK-Corpus/wav48/p227/p227_197.wav\n",
      "/media/caijb/data_drive/data/vctk/VCTK-Corpus/wav48/p227/p227_207.wav\n",
      "/media/caijb/data_drive/data/vctk/VCTK-Corpus/wav48/p227/p227_208.wav\n",
      "/media/caijb/data_drive/data/vctk/VCTK-Corpus/wav48/p228/p228_095.wav\n",
      "/media/caijb/data_drive/data/vctk/VCTK-Corpus/wav48/p228/p228_096.wav\n",
      "/media/caijb/data_drive/data/vctk/VCTK-Corpus/wav48/p228/p228_105.wav\n",
      "/media/caijb/data_drive/data/vctk/VCTK-Corpus/wav48/p228/p228_106.wav\n",
      "/media/caijb/data_drive/data/vctk/VCTK-Corpus/wav48/p228/p228_115.wav\n",
      "/media/caijb/data_drive/data/vctk/VCTK-Corpus/wav48/p228/p228_116.wav\n",
      "/media/caijb/data_drive/data/vctk/VCTK-Corpus/wav48/p228/p228_125.wav\n",
      "/media/caijb/data_drive/data/vctk/VCTK-Corpus/wav48/p228/p228_126.wav\n",
      "/media/caijb/data_drive/data/vctk/VCTK-Corpus/wav48/p228/p228_135.wav\n",
      "/media/caijb/data_drive/data/vctk/VCTK-Corpus/wav48/p228/p228_136.wav\n",
      "/media/caijb/data_drive/data/vctk/VCTK-Corpus/wav48/p228/p228_145.wav\n",
      "/media/caijb/data_drive/data/vctk/VCTK-Corpus/wav48/p228/p228_146.wav\n",
      "/media/caijb/data_drive/data/vctk/VCTK-Corpus/wav48/p228/p228_155.wav\n",
      "/media/caijb/data_drive/data/vctk/VCTK-Corpus/wav48/p228/p228_156.wav\n",
      "/media/caijb/data_drive/data/vctk/VCTK-Corpus/wav48/p228/p228_165.wav\n",
      "/media/caijb/data_drive/data/vctk/VCTK-Corpus/wav48/p228/p228_166.wav\n",
      "/media/caijb/data_drive/data/vctk/VCTK-Corpus/wav48/p228/p228_175.wav\n",
      "/media/caijb/data_drive/data/vctk/VCTK-Corpus/wav48/p228/p228_176.wav\n",
      "/media/caijb/data_drive/data/vctk/VCTK-Corpus/wav48/p228/p228_185.wav\n",
      "/media/caijb/data_drive/data/vctk/VCTK-Corpus/wav48/p228/p228_186.wav\n",
      "/media/caijb/data_drive/data/vctk/VCTK-Corpus/wav48/p229/p229_037.wav\n",
      "/media/caijb/data_drive/data/vctk/VCTK-Corpus/wav48/p229/p229_038.wav\n",
      "/media/caijb/data_drive/data/vctk/VCTK-Corpus/wav48/p229/p229_047.wav\n",
      "/media/caijb/data_drive/data/vctk/VCTK-Corpus/wav48/p229/p229_048.wav\n",
      "/media/caijb/data_drive/data/vctk/VCTK-Corpus/wav48/p229/p229_058.wav\n",
      "/media/caijb/data_drive/data/vctk/VCTK-Corpus/wav48/p229/p229_059.wav\n",
      "/media/caijb/data_drive/data/vctk/VCTK-Corpus/wav48/p229/p229_068.wav\n",
      "/media/caijb/data_drive/data/vctk/VCTK-Corpus/wav48/p229/p229_069.wav\n",
      "/media/caijb/data_drive/data/vctk/VCTK-Corpus/wav48/p229/p229_078.wav\n",
      "/media/caijb/data_drive/data/vctk/VCTK-Corpus/wav48/p229/p229_079.wav\n",
      "/media/caijb/data_drive/data/vctk/VCTK-Corpus/wav48/p229/p229_088.wav\n",
      "/media/caijb/data_drive/data/vctk/VCTK-Corpus/wav48/p229/p229_089.wav\n",
      "/media/caijb/data_drive/data/vctk/VCTK-Corpus/wav48/p229/p229_098.wav\n",
      "/media/caijb/data_drive/data/vctk/VCTK-Corpus/wav48/p229/p229_099.wav\n",
      "/media/caijb/data_drive/data/vctk/VCTK-Corpus/wav48/p229/p229_109.wav\n",
      "/media/caijb/data_drive/data/vctk/VCTK-Corpus/wav48/p229/p229_110.wav\n",
      "/media/caijb/data_drive/data/vctk/VCTK-Corpus/wav48/p229/p229_119.wav\n",
      "/media/caijb/data_drive/data/vctk/VCTK-Corpus/wav48/p229/p229_120.wav\n",
      "/media/caijb/data_drive/data/vctk/VCTK-Corpus/wav48/p229/p229_129.wav\n"
     ]
    }
   ],
   "source": [
    "text_path = \"/media/caijb/data_drive/data/Zeroshot/vctk_tester.txt\"\n",
    "with open(text_path, \"r\") as f:\n",
    "    data = f.read()\n",
    "    data = data.split(\"\\n\")\n",
    "\n",
    "    \n",
    "result = []\n",
    "for i in data:\n",
    "    i = i.split(\"|\")\n",
    "    audio_path, sid = i[0], i[1]\n",
    "    print(audio_path)\n",
    "    mel = audio_processing(audio_path, hps)\n",
    "    vector = CAC(mel)\n",
    "    vector = vector.squeeze()\n",
    "    temp_vector = vector.tolist()\n",
    "    temp_vector.append(int(sid))\n",
    "    result.append(temp_vector)\n"
   ]
  },
  {
   "cell_type": "code",
   "execution_count": 7,
   "id": "ce16d176",
   "metadata": {},
   "outputs": [],
   "source": [
    "import pandas as pd\n",
    "\n",
    "df = pd.DataFrame(result)\n",
    "df.to_csv(\"./result_ge2e_convlstm_seen.csv\")"
   ]
  },
  {
   "cell_type": "code",
   "execution_count": null,
   "id": "10a8cb72",
   "metadata": {},
   "outputs": [],
   "source": []
  },
  {
   "cell_type": "code",
   "execution_count": 8,
   "id": "27d7f7c9",
   "metadata": {},
   "outputs": [
    {
     "data": {
      "text/html": [
       "<div>\n",
       "<style scoped>\n",
       "    .dataframe tbody tr th:only-of-type {\n",
       "        vertical-align: middle;\n",
       "    }\n",
       "\n",
       "    .dataframe tbody tr th {\n",
       "        vertical-align: top;\n",
       "    }\n",
       "\n",
       "    .dataframe thead th {\n",
       "        text-align: right;\n",
       "    }\n",
       "</style>\n",
       "<table border=\"1\" class=\"dataframe\">\n",
       "  <thead>\n",
       "    <tr style=\"text-align: right;\">\n",
       "      <th></th>\n",
       "      <th>0</th>\n",
       "      <th>1</th>\n",
       "      <th>2</th>\n",
       "      <th>3</th>\n",
       "      <th>4</th>\n",
       "      <th>5</th>\n",
       "      <th>6</th>\n",
       "      <th>7</th>\n",
       "      <th>8</th>\n",
       "      <th>9</th>\n",
       "      <th>...</th>\n",
       "      <th>247</th>\n",
       "      <th>248</th>\n",
       "      <th>249</th>\n",
       "      <th>250</th>\n",
       "      <th>251</th>\n",
       "      <th>252</th>\n",
       "      <th>253</th>\n",
       "      <th>254</th>\n",
       "      <th>255</th>\n",
       "      <th>256</th>\n",
       "    </tr>\n",
       "  </thead>\n",
       "  <tbody>\n",
       "    <tr>\n",
       "      <th>0</th>\n",
       "      <td>0.0</td>\n",
       "      <td>0.0</td>\n",
       "      <td>0.0</td>\n",
       "      <td>0.0</td>\n",
       "      <td>0.0</td>\n",
       "      <td>0.0</td>\n",
       "      <td>0.0</td>\n",
       "      <td>0.0</td>\n",
       "      <td>0.0</td>\n",
       "      <td>0.0</td>\n",
       "      <td>...</td>\n",
       "      <td>0.0</td>\n",
       "      <td>0.0</td>\n",
       "      <td>0.0</td>\n",
       "      <td>0.0</td>\n",
       "      <td>0.0</td>\n",
       "      <td>0.0</td>\n",
       "      <td>0.0</td>\n",
       "      <td>0.0</td>\n",
       "      <td>0.463975</td>\n",
       "      <td>2</td>\n",
       "    </tr>\n",
       "    <tr>\n",
       "      <th>1</th>\n",
       "      <td>0.0</td>\n",
       "      <td>0.0</td>\n",
       "      <td>0.0</td>\n",
       "      <td>0.0</td>\n",
       "      <td>0.0</td>\n",
       "      <td>0.0</td>\n",
       "      <td>0.0</td>\n",
       "      <td>0.0</td>\n",
       "      <td>0.0</td>\n",
       "      <td>0.0</td>\n",
       "      <td>...</td>\n",
       "      <td>0.0</td>\n",
       "      <td>0.0</td>\n",
       "      <td>0.0</td>\n",
       "      <td>0.0</td>\n",
       "      <td>0.0</td>\n",
       "      <td>0.0</td>\n",
       "      <td>0.0</td>\n",
       "      <td>0.0</td>\n",
       "      <td>1.093781</td>\n",
       "      <td>2</td>\n",
       "    </tr>\n",
       "    <tr>\n",
       "      <th>2</th>\n",
       "      <td>0.0</td>\n",
       "      <td>0.0</td>\n",
       "      <td>0.0</td>\n",
       "      <td>0.0</td>\n",
       "      <td>0.0</td>\n",
       "      <td>0.0</td>\n",
       "      <td>0.0</td>\n",
       "      <td>0.0</td>\n",
       "      <td>0.0</td>\n",
       "      <td>0.0</td>\n",
       "      <td>...</td>\n",
       "      <td>0.0</td>\n",
       "      <td>0.0</td>\n",
       "      <td>0.0</td>\n",
       "      <td>0.0</td>\n",
       "      <td>0.0</td>\n",
       "      <td>0.0</td>\n",
       "      <td>0.0</td>\n",
       "      <td>0.0</td>\n",
       "      <td>0.601861</td>\n",
       "      <td>2</td>\n",
       "    </tr>\n",
       "    <tr>\n",
       "      <th>3</th>\n",
       "      <td>0.0</td>\n",
       "      <td>0.0</td>\n",
       "      <td>0.0</td>\n",
       "      <td>0.0</td>\n",
       "      <td>0.0</td>\n",
       "      <td>0.0</td>\n",
       "      <td>0.0</td>\n",
       "      <td>0.0</td>\n",
       "      <td>0.0</td>\n",
       "      <td>0.0</td>\n",
       "      <td>...</td>\n",
       "      <td>0.0</td>\n",
       "      <td>0.0</td>\n",
       "      <td>0.0</td>\n",
       "      <td>0.0</td>\n",
       "      <td>0.0</td>\n",
       "      <td>0.0</td>\n",
       "      <td>0.0</td>\n",
       "      <td>0.0</td>\n",
       "      <td>0.000000</td>\n",
       "      <td>2</td>\n",
       "    </tr>\n",
       "    <tr>\n",
       "      <th>4</th>\n",
       "      <td>0.0</td>\n",
       "      <td>0.0</td>\n",
       "      <td>0.0</td>\n",
       "      <td>0.0</td>\n",
       "      <td>0.0</td>\n",
       "      <td>0.0</td>\n",
       "      <td>0.0</td>\n",
       "      <td>0.0</td>\n",
       "      <td>0.0</td>\n",
       "      <td>0.0</td>\n",
       "      <td>...</td>\n",
       "      <td>0.0</td>\n",
       "      <td>0.0</td>\n",
       "      <td>0.0</td>\n",
       "      <td>0.0</td>\n",
       "      <td>0.0</td>\n",
       "      <td>0.0</td>\n",
       "      <td>0.0</td>\n",
       "      <td>0.0</td>\n",
       "      <td>0.365342</td>\n",
       "      <td>2</td>\n",
       "    </tr>\n",
       "  </tbody>\n",
       "</table>\n",
       "<p>5 rows × 257 columns</p>\n",
       "</div>"
      ],
      "text/plain": [
       "   0    1    2    3    4    5    6    7    8    9    ...  247  248  249  250  \\\n",
       "0  0.0  0.0  0.0  0.0  0.0  0.0  0.0  0.0  0.0  0.0  ...  0.0  0.0  0.0  0.0   \n",
       "1  0.0  0.0  0.0  0.0  0.0  0.0  0.0  0.0  0.0  0.0  ...  0.0  0.0  0.0  0.0   \n",
       "2  0.0  0.0  0.0  0.0  0.0  0.0  0.0  0.0  0.0  0.0  ...  0.0  0.0  0.0  0.0   \n",
       "3  0.0  0.0  0.0  0.0  0.0  0.0  0.0  0.0  0.0  0.0  ...  0.0  0.0  0.0  0.0   \n",
       "4  0.0  0.0  0.0  0.0  0.0  0.0  0.0  0.0  0.0  0.0  ...  0.0  0.0  0.0  0.0   \n",
       "\n",
       "   251  252  253  254       255  256  \n",
       "0  0.0  0.0  0.0  0.0  0.463975    2  \n",
       "1  0.0  0.0  0.0  0.0  1.093781    2  \n",
       "2  0.0  0.0  0.0  0.0  0.601861    2  \n",
       "3  0.0  0.0  0.0  0.0  0.000000    2  \n",
       "4  0.0  0.0  0.0  0.0  0.365342    2  \n",
       "\n",
       "[5 rows x 257 columns]"
      ]
     },
     "execution_count": 8,
     "metadata": {},
     "output_type": "execute_result"
    }
   ],
   "source": [
    "import matplotlib.pyplot as plt\n",
    "df.head()"
   ]
  },
  {
   "cell_type": "code",
   "execution_count": 9,
   "id": "0a10965f",
   "metadata": {},
   "outputs": [],
   "source": [
    "y = df[[256]]\n",
    "\"\"\"\n",
    "y =y.replace(125,0)\n",
    "y =y.replace(124,1)\n",
    "y =y.replace(113,2)\n",
    "y =y.replace(115,3)\n",
    "y =y.replace(114,4)\n",
    "\n",
    "\"\"\"\n",
    "y =y.replace(2,0)\n",
    "y =y.replace(3,1)\n",
    "y =y.replace(4,2)\n",
    "y =y.replace(5,3)\n",
    "y =y.replace(6,4)\n",
    "\n",
    "x = df.drop([256],axis =1)"
   ]
  },
  {
   "cell_type": "code",
   "execution_count": 10,
   "id": "d6c78bac",
   "metadata": {},
   "outputs": [],
   "source": [
    "from sklearn.preprocessing import StandardScaler\n",
    "\n",
    "scaler = StandardScaler()\n",
    "x_scaled = scaler.fit_transform(x)"
   ]
  },
  {
   "cell_type": "code",
   "execution_count": 11,
   "id": "25aed880",
   "metadata": {},
   "outputs": [],
   "source": [
    "from sklearn.decomposition import PCA\n",
    "pca =PCA(n_components = 2)\n",
    "pca.fit(x_scaled)\n",
    "x_pca = pca.transform(x_scaled)\n",
    "x_pca= pd.DataFrame(x_pca)\n",
    "x_pca['target']=y"
   ]
  },
  {
   "cell_type": "code",
   "execution_count": 12,
   "id": "8744fc63",
   "metadata": {
    "scrolled": false
   },
   "outputs": [],
   "source": [
    "markers = ['o', '^', 's', 'x','p']\n",
    "name = ['125', '124','113', '115', '114']\n",
    "#name = ['jing Li','Bart de Leeuw','Tux','HarroTapani Ylilammi','Gilles G.Le Blanc']\n",
    "sid_list = [125, 124, 113, 115, 114]"
   ]
  },
  {
   "cell_type": "code",
   "execution_count": 13,
   "id": "ce1a8f0d",
   "metadata": {
    "scrolled": true
   },
   "outputs": [
    {
     "data": {
      "image/png": "[encoded data removed]",
      "text/plain": [
       "<Figure size 360x360 with 1 Axes>"
      ]
     },
     "metadata": {
      "needs_background": "light"
     },
     "output_type": "display_data"
    }
   ],
   "source": [
    "fig = plt.figure(figsize=(5,5))\n",
    "#ax = fig.gca(projection='3d')\n",
    "for i, marker in enumerate(markers) :\n",
    "    x_axis = x_pca[x_pca['target']==i][0]\n",
    "    y_axis = x_pca[x_pca['target']==i][1]\n",
    "    \n",
    "    plt.scatter(x_axis,y_axis, marker=marker, label = name[i])\n",
    "\n",
    "plt.legend(loc='upper left')\n",
    "plt.xlabel('component 1')\n",
    "plt.ylabel('component 2')\n",
    "plt.show()"
   ]
  },
  {
   "cell_type": "code",
   "execution_count": 14,
   "id": "4ef88de2",
   "metadata": {},
   "outputs": [
    {
     "name": "stderr",
     "output_type": "stream",
     "text": [
      "/home/caijb/anaconda3/envs/pytts/lib/python3.7/site-packages/sklearn/utils/validation.py:993: DataConversionWarning: A column-vector y was passed when a 1d array was expected. Please change the shape of y to (n_samples, ), for example using ravel().\n",
      "  y = column_or_1d(y, warn=True)\n"
     ]
    }
   ],
   "source": [
    "from sklearn.discriminant_analysis import LinearDiscriminantAnalysis\n",
    "lda= LinearDiscriminantAnalysis(n_components =2)\n",
    "#scaler = StandardScaler()\n",
    "#x_scaled = scaler.fit_transform(x)\n",
    "lda.fit(x_scaled,y)\n",
    "x_lda = lda.transform(x_scaled)\n",
    "x_lda = pd.DataFrame(x_lda)\n",
    "x_lda['target'] = y"
   ]
  },
  {
   "cell_type": "code",
   "execution_count": null,
   "id": "e9036b7b",
   "metadata": {},
   "outputs": [],
   "source": []
  },
  {
   "cell_type": "code",
   "execution_count": 17,
   "id": "d7a44651",
   "metadata": {},
   "outputs": [
    {
     "data": {
      "image/png": "[encoded data removed]",
      "text/plain": [
       "<Figure size 360x360 with 1 Axes>"
      ]
     },
     "metadata": {
      "needs_background": "light"
     },
     "output_type": "display_data"
    }
   ],
   "source": [
    "fig = plt.figure(figsize=(5,5))\n",
    "#ax = fig.gca(projection='3d')\n",
    "for i, marker in enumerate(markers) :\n",
    "    x_axis = x_lda[x_lda['target']==i][0]\n",
    "    y_axis = x_lda[x_lda['target']==i][1]\n",
    "    plt.scatter(x_axis,y_axis, marker=marker, label = name[i])\n",
    "\n",
    "plt.legend(loc='lower right')\n",
    "plt.xlabel('component 1')\n",
    "plt.ylabel('component 2')\n",
    "plt.show()"
   ]
  },
  {
   "cell_type": "code",
   "execution_count": 16,
   "id": "1acba0cf",
   "metadata": {},
   "outputs": [
    {
     "ename": "NameError",
     "evalue": "name 'df_new' is not defined",
     "output_type": "error",
     "traceback": [
      "\u001b[0;31m---------------------------------------------------------------------------\u001b[0m",
      "\u001b[0;31mNameError\u001b[0m                                 Traceback (most recent call last)",
      "\u001b[0;32m/tmp/ipykernel_3526659/3688003337.py\u001b[0m in \u001b[0;36m<module>\u001b[0;34m\u001b[0m\n\u001b[1;32m      1\u001b[0m \u001b[0;31m#df_new = pd.read_csv(\"./result_unseen.csv\")\u001b[0m\u001b[0;34m\u001b[0m\u001b[0;34m\u001b[0m\u001b[0;34m\u001b[0m\u001b[0m\n\u001b[0;32m----> 2\u001b[0;31m \u001b[0mdf_key\u001b[0m \u001b[0;34m=\u001b[0m\u001b[0mdf_new\u001b[0m\u001b[0;34m.\u001b[0m\u001b[0mkeys\u001b[0m\u001b[0;34m(\u001b[0m\u001b[0;34m)\u001b[0m\u001b[0;34m\u001b[0m\u001b[0;34m\u001b[0m\u001b[0m\n\u001b[0m\u001b[1;32m      3\u001b[0m \u001b[0mx_new\u001b[0m \u001b[0;34m=\u001b[0m\u001b[0mdf_new\u001b[0m\u001b[0;34m.\u001b[0m\u001b[0mloc\u001b[0m\u001b[0;34m[\u001b[0m\u001b[0;34m:\u001b[0m\u001b[0;34m,\u001b[0m\u001b[0;34m'0'\u001b[0m\u001b[0;34m:\u001b[0m\u001b[0;34m'255'\u001b[0m\u001b[0;34m]\u001b[0m\u001b[0;34m\u001b[0m\u001b[0;34m\u001b[0m\u001b[0m\n\u001b[1;32m      4\u001b[0m \u001b[0my_new\u001b[0m \u001b[0;34m=\u001b[0m\u001b[0mdf_new\u001b[0m\u001b[0;34m[\u001b[0m\u001b[0;34m'256'\u001b[0m\u001b[0;34m]\u001b[0m\u001b[0;34m\u001b[0m\u001b[0;34m\u001b[0m\u001b[0m\n\u001b[1;32m      5\u001b[0m \u001b[0mx_new\u001b[0m\u001b[0;34m.\u001b[0m\u001b[0mhead\u001b[0m\u001b[0;34m(\u001b[0m\u001b[0;34m)\u001b[0m\u001b[0;34m\u001b[0m\u001b[0;34m\u001b[0m\u001b[0m\n",
      "\u001b[0;31mNameError\u001b[0m: name 'df_new' is not defined"
     ]
    }
   ],
   "source": [
    "#df_new = pd.read_csv(\"./result_unseen.csv\")\n",
    "df_key =df_new.keys()\n",
    "x_new =df_new.loc[:,'0':'255']\n",
    "y_new =df_new['256']\n",
    "x_new.head()"
   ]
  },
  {
   "cell_type": "code",
   "execution_count": null,
   "id": "46e7b2a0",
   "metadata": {},
   "outputs": [],
   "source": [
    "x_new_scaled = scaler.fit_transform(x_new)\n",
    "x_new_lda = pca.transform(x_new_scaled)\n",
    "x_new_lda = pd.DataFrame(x_new_lda)\n",
    "\n",
    "y_new=y_new.replace(125,0)\n",
    "y_new =y_new.replace(124,1)\n",
    "y_new =y_new.replace(113,2)\n",
    "y_new =y_new.replace(115,3)\n",
    "y_new =y_new.replace(114,4)\n",
    "\n",
    "x_new_lda['target'] = y_new\n",
    "x_new_lda.head()"
   ]
  },
  {
   "cell_type": "code",
   "execution_count": null,
   "id": "3f182ef4",
   "metadata": {},
   "outputs": [],
   "source": [
    "fig = plt.figure(figsize=(10,10))\n",
    "#ax = fig.gca(projection='3d')\n",
    "for i, marker in enumerate(markers) :\n",
    "    x_axis = x_new_lda[x_new_lda['target']==i][0]\n",
    "    y_axis = x_new_lda[x_new_lda['target']==i][1]\n",
    "    plt.scatter(x_axis,y_axis, marker=marker, label = name[i])\n",
    "\n",
    "plt.legend(loc='upper left')\n",
    "plt.xlabel('component 1')\n",
    "plt.ylabel('component 2')\n",
    "plt.show()"
   ]
  },
  {
   "cell_type": "code",
   "execution_count": null,
   "id": "afa233b6",
   "metadata": {},
   "outputs": [],
   "source": []
  },
  {
   "cell_type": "code",
   "execution_count": null,
   "id": "8c73e159",
   "metadata": {},
   "outputs": [],
   "source": []
  },
  {
   "cell_type": "code",
   "execution_count": null,
   "id": "c1906290",
   "metadata": {},
   "outputs": [],
   "source": []
  }
 ],
 "metadata": {
  "kernelspec": {
   "display_name": "Python 3 (ipykernel)",
   "language": "python",
   "name": "python3"
  },
  "language_info": {
   "codemirror_mode": {
    "name": "ipython",
    "version": 3
   },
   "file_extension": ".py",
   "mimetype": "text/x-python",
   "name": "python",
   "nbconvert_exporter": "python",
   "pygments_lexer": "ipython3",
   "version": "3.7.13"
  }
 },
 "nbformat": 4,
 "nbformat_minor": 5
}
