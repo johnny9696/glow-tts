{
 "cells": [
  {
   "cell_type": "code",
   "execution_count": 1,
   "id": "b2ed193f",
   "metadata": {},
   "outputs": [],
   "source": [
    "import json\n",
    "import os\n",
    "import argparse\n",
    "import sys\n",
    "\n",
    "import torch\n",
    "from torch import nn, optim\n",
    "from torch.nn import functional as F\n",
    "from speaker_encoder import LSTM_Classification as model\n",
    "\n",
    "sys.path.append(os.path.dirname(os.path.abspath(os.path.dirname(\"\"))))\n",
    "import commons\n",
    "import utils\n",
    "from utils import load_filepaths_and_text, load_wav_to_torch"
   ]
  },
  {
   "cell_type": "code",
   "execution_count": 2,
   "id": "aae2b151",
   "metadata": {},
   "outputs": [],
   "source": [
    "def audio_processing(audio_path, hps):\n",
    "    audio, sr = load_wav_to_torch(audio_path)\n",
    "    audio_norm = audio/ hps.data.max_wav_value\n",
    "    audio_norm = audio_norm.unsqueeze(0)\n",
    "    stft = commons.TacotronSTFT(hps.data.filter_length, hps.data.hop_length, \n",
    "                               hps.data.win_length, hps.data.n_mel_channels, \n",
    "                               hps.data.sampling_rate, hps.data.mel_fmin,\n",
    "                               hps.data.mel_fmax)\n",
    "    melspec = stft.mel_spectrogram(audio_norm)\n",
    "    melspec = torch.squeeze(torch.tensor(melspec),0)\n",
    "    melspec = torch.abs(melspec)\n",
    "    \n",
    "    frames = hps.data.slice_length\n",
    "    mel_padded = torch.FloatTensor(1, hps.data.n_mel_channels, frames)\n",
    "    mel_padded.zero_()\n",
    "    if melspec.size(1) < frames:\n",
    "        mel_padded[:, :, :melspec.size(1)] = melspec\n",
    "    else : \n",
    "        mel_padded[:, :, :frames] = melspec[:, :frames]\n",
    "    return mel_padded/torch.max(mel_padded)"
   ]
  },
  {
   "cell_type": "code",
   "execution_count": 3,
   "id": "bcfac3f1",
   "metadata": {},
   "outputs": [
    {
     "name": "stdout",
     "output_type": "stream",
     "text": [
      "/media/caijb/data_drive/autoencoder/log/LSTM_Clasificaion/G_499.pth\n",
      "INFO:root:Loaded checkpoint '/media/caijb/data_drive/autoencoder/log/LSTM_Clasificaion/G_499.pth' (iteration 499)\n"
     ]
    },
    {
     "name": "stderr",
     "output_type": "stream",
     "text": [
      "/home/caijb/anaconda3/envs/pytts/lib/python3.7/site-packages/torch/nn/init.py:405: UserWarning: Initializing zero-element tensors is a no-op\n",
      "  warnings.warn(\"Initializing zero-element tensors is a no-op\")\n"
     ]
    }
   ],
   "source": [
    "saved_model_path = \"/media/caijb/data_drive/autoencoder/log/LSTM_Clasificaion\"\n",
    "config_path = os.path.join(saved_model_path, \"config.json\")\n",
    "with open(config_path,\"r\") as f:\n",
    "        data = f.read()\n",
    "config = json.loads(data)\n",
    "hps = utils.HParams(**config)\n",
    "\n",
    "\n",
    "checkpoint_path = utils.latest_checkpoint_path(saved_model_path)\n",
    "#checkpoint_path = os.path.join(saved_model_path, 'EMB_120.pth')\n",
    "CAC = model(input_size=hps.data.n_mel_channels, hidden_size=hps.model.hidden_size,embedding_size= hps.model.embedding_size\n",
    "            , num_layers=hps.model.num_layers)\n",
    "\n",
    "CAC, _, _, _ = utils.load_checkpoint(checkpoint_path, CAC)"
   ]
  },
  {
   "cell_type": "code",
   "execution_count": 17,
   "id": "ab01d208",
   "metadata": {},
   "outputs": [
    {
     "name": "stdout",
     "output_type": "stream",
     "text": [
      "/media/caijb/data_drive/data/chinese/call_to_arms/call_to_arms_0000.wav\n"
     ]
    },
    {
     "name": "stderr",
     "output_type": "stream",
     "text": [
      "/home/caijb/Desktop/zero_shot_glowtts/stft.py:68: FutureWarning: Pass size=1024 as keyword args. From version 0.10 passing these as positional arguments will result in an error\n",
      "  fft_window = pad_center(fft_window, filter_length)\n",
      "/home/caijb/Desktop/zero_shot_glowtts/commons.py:172: FutureWarning: Pass sr=22050, n_fft=1024, n_mels=80, fmin=0.0, fmax=8000.0 as keyword args. From version 0.10 passing these as positional arguments will result in an error\n",
      "  sampling_rate, filter_length, n_mel_channels, mel_fmin, mel_fmax)\n",
      "/home/caijb/anaconda3/envs/pytts/lib/python3.7/site-packages/ipykernel_launcher.py:10: UserWarning: To copy construct from a tensor, it is recommended to use sourceTensor.clone().detach() or sourceTensor.clone().detach().requires_grad_(True), rather than torch.tensor(sourceTensor).\n",
      "  # Remove the CWD from sys.path while we load stuff.\n"
     ]
    },
    {
     "name": "stdout",
     "output_type": "stream",
     "text": [
      "/media/caijb/data_drive/data/chinese/call_to_arms/call_to_arms_0001.wav\n",
      "/media/caijb/data_drive/data/chinese/call_to_arms/call_to_arms_0010.wav\n",
      "/media/caijb/data_drive/data/chinese/call_to_arms/call_to_arms_0011.wav\n",
      "/media/caijb/data_drive/data/chinese/call_to_arms/call_to_arms_0020.wav\n",
      "/media/caijb/data_drive/data/chinese/call_to_arms/call_to_arms_0021.wav\n",
      "/media/caijb/data_drive/data/chinese/call_to_arms/call_to_arms_0030.wav\n",
      "/media/caijb/data_drive/data/chinese/call_to_arms/call_to_arms_0031.wav\n",
      "/media/caijb/data_drive/data/chinese/call_to_arms/call_to_arms_0040.wav\n",
      "/media/caijb/data_drive/data/chinese/call_to_arms/call_to_arms_0041.wav\n",
      "/media/caijb/data_drive/data/chinese/call_to_arms/call_to_arms_0050.wav\n",
      "/media/caijb/data_drive/data/chinese/call_to_arms/call_to_arms_0051.wav\n",
      "/media/caijb/data_drive/data/chinese/call_to_arms/call_to_arms_0060.wav\n",
      "/media/caijb/data_drive/data/chinese/call_to_arms/call_to_arms_0061.wav\n",
      "/media/caijb/data_drive/data/chinese/call_to_arms/call_to_arms_0070.wav\n",
      "/media/caijb/data_drive/data/chinese/call_to_arms/call_to_arms_0071.wav\n",
      "/media/caijb/data_drive/data/chinese/call_to_arms/call_to_arms_0080.wav\n",
      "/media/caijb/data_drive/data/chinese/call_to_arms/call_to_arms_0081.wav\n",
      "/media/caijb/data_drive/data/chinese/call_to_arms/call_to_arms_0090.wav\n",
      "/media/caijb/data_drive/data/chinese/call_to_arms/call_to_arms_0091.wav\n",
      "/media/caijb/data_drive/data/dutch/20000_mijlen/20000_mijlen_1341.wav\n",
      "/media/caijb/data_drive/data/dutch/20000_mijlen/20000_mijlen_1350.wav\n",
      "/media/caijb/data_drive/data/dutch/20000_mijlen/20000_mijlen_1351.wav\n",
      "/media/caijb/data_drive/data/dutch/20000_mijlen/20000_mijlen_1360.wav\n",
      "/media/caijb/data_drive/data/dutch/20000_mijlen/20000_mijlen_1361.wav\n",
      "/media/caijb/data_drive/data/dutch/20000_mijlen/20000_mijlen_1370.wav\n",
      "/media/caijb/data_drive/data/dutch/20000_mijlen/20000_mijlen_1371.wav\n",
      "/media/caijb/data_drive/data/dutch/20000_mijlen/20000_mijlen_1380.wav\n",
      "/media/caijb/data_drive/data/dutch/20000_mijlen/20000_mijlen_1381.wav\n",
      "/media/caijb/data_drive/data/dutch/20000_mijlen/20000_mijlen_1390.wav\n",
      "/media/caijb/data_drive/data/dutch/20000_mijlen/20000_mijlen_1391.wav\n",
      "/media/caijb/data_drive/data/dutch/20000_mijlen/20000_mijlen_1400.wav\n",
      "/media/caijb/data_drive/data/dutch/20000_mijlen/20000_mijlen_1401.wav\n",
      "/media/caijb/data_drive/data/dutch/20000_mijlen/20000_mijlen_1410.wav\n",
      "/media/caijb/data_drive/data/dutch/20000_mijlen/20000_mijlen_1411.wav\n",
      "/media/caijb/data_drive/data/dutch/20000_mijlen/20000_mijlen_1420.wav\n",
      "/media/caijb/data_drive/data/dutch/20000_mijlen/20000_mijlen_1421.wav\n",
      "/media/caijb/data_drive/data/dutch/20000_mijlen/20000_mijlen_1430.wav\n",
      "/media/caijb/data_drive/data/dutch/20000_mijlen/20000_mijlen_1431.wav\n",
      "/media/caijb/data_drive/data/dutch/20000_mijlen/20000_mijlen_1440.wav\n",
      "/media/caijb/data_drive/data/spanish/19demarzo/19demarzo_3076.wav\n",
      "/media/caijb/data_drive/data/spanish/19demarzo/19demarzo_3085.wav\n",
      "/media/caijb/data_drive/data/spanish/19demarzo/19demarzo_3086.wav\n",
      "/media/caijb/data_drive/data/spanish/19demarzo/19demarzo_3095.wav\n",
      "/media/caijb/data_drive/data/spanish/19demarzo/19demarzo_3096.wav\n",
      "/media/caijb/data_drive/data/spanish/19demarzo/19demarzo_3105.wav\n",
      "/media/caijb/data_drive/data/spanish/19demarzo/19demarzo_3106.wav\n",
      "/media/caijb/data_drive/data/spanish/19demarzo/19demarzo_3115.wav\n",
      "/media/caijb/data_drive/data/spanish/19demarzo/19demarzo_3116.wav\n",
      "/media/caijb/data_drive/data/spanish/19demarzo/19demarzo_3125.wav\n",
      "/media/caijb/data_drive/data/spanish/19demarzo/19demarzo_3126.wav\n",
      "/media/caijb/data_drive/data/spanish/19demarzo/19demarzo_3135.wav\n",
      "/media/caijb/data_drive/data/spanish/19demarzo/19demarzo_3136.wav\n",
      "/media/caijb/data_drive/data/spanish/19demarzo/19demarzo_3145.wav\n",
      "/media/caijb/data_drive/data/spanish/19demarzo/19demarzo_3146.wav\n",
      "/media/caijb/data_drive/data/spanish/19demarzo/19demarzo_3155.wav\n",
      "/media/caijb/data_drive/data/spanish/19demarzo/19demarzo_3156.wav\n",
      "/media/caijb/data_drive/data/spanish/19demarzo/19demarzo_3165.wav\n",
      "/media/caijb/data_drive/data/spanish/19demarzo/19demarzo_3166.wav\n",
      "/media/caijb/data_drive/data/spanish/19demarzo/19demarzo_3175.wav\n",
      "/media/caijb/data_drive/data/finnish/gulliverin_matkat_kaukaisilla_mailla/gulliverin_matkat_kaukaisilla_mailla_1749.wav\n",
      "/media/caijb/data_drive/data/finnish/gulliverin_matkat_kaukaisilla_mailla/gulliverin_matkat_kaukaisilla_mailla_1758.wav\n",
      "/media/caijb/data_drive/data/finnish/gulliverin_matkat_kaukaisilla_mailla/gulliverin_matkat_kaukaisilla_mailla_1759.wav\n",
      "/media/caijb/data_drive/data/finnish/gulliverin_matkat_kaukaisilla_mailla/gulliverin_matkat_kaukaisilla_mailla_1768.wav\n",
      "/media/caijb/data_drive/data/finnish/gulliverin_matkat_kaukaisilla_mailla/gulliverin_matkat_kaukaisilla_mailla_1769.wav\n",
      "/media/caijb/data_drive/data/finnish/gulliverin_matkat_kaukaisilla_mailla/gulliverin_matkat_kaukaisilla_mailla_1778.wav\n",
      "/media/caijb/data_drive/data/finnish/gulliverin_matkat_kaukaisilla_mailla/gulliverin_matkat_kaukaisilla_mailla_1779.wav\n",
      "/media/caijb/data_drive/data/finnish/gulliverin_matkat_kaukaisilla_mailla/gulliverin_matkat_kaukaisilla_mailla_1788.wav\n",
      "/media/caijb/data_drive/data/finnish/gulliverin_matkat_kaukaisilla_mailla/gulliverin_matkat_kaukaisilla_mailla_1789.wav\n",
      "/media/caijb/data_drive/data/finnish/gulliverin_matkat_kaukaisilla_mailla/gulliverin_matkat_kaukaisilla_mailla_1798.wav\n",
      "/media/caijb/data_drive/data/finnish/gulliverin_matkat_kaukaisilla_mailla/gulliverin_matkat_kaukaisilla_mailla_1799.wav\n",
      "/media/caijb/data_drive/data/finnish/gulliverin_matkat_kaukaisilla_mailla/gulliverin_matkat_kaukaisilla_mailla_1808.wav\n",
      "/media/caijb/data_drive/data/finnish/gulliverin_matkat_kaukaisilla_mailla/gulliverin_matkat_kaukaisilla_mailla_1809.wav\n",
      "/media/caijb/data_drive/data/finnish/gulliverin_matkat_kaukaisilla_mailla/gulliverin_matkat_kaukaisilla_mailla_1818.wav\n",
      "/media/caijb/data_drive/data/finnish/gulliverin_matkat_kaukaisilla_mailla/gulliverin_matkat_kaukaisilla_mailla_1819.wav\n",
      "/media/caijb/data_drive/data/finnish/gulliverin_matkat_kaukaisilla_mailla/gulliverin_matkat_kaukaisilla_mailla_1828.wav\n",
      "/media/caijb/data_drive/data/finnish/gulliverin_matkat_kaukaisilla_mailla/gulliverin_matkat_kaukaisilla_mailla_1829.wav\n",
      "/media/caijb/data_drive/data/finnish/gulliverin_matkat_kaukaisilla_mailla/gulliverin_matkat_kaukaisilla_mailla_1838.wav\n",
      "/media/caijb/data_drive/data/finnish/gulliverin_matkat_kaukaisilla_mailla/gulliverin_matkat_kaukaisilla_mailla_1839.wav\n",
      "/media/caijb/data_drive/data/finnish/gulliverin_matkat_kaukaisilla_mailla/gulliverin_matkat_kaukaisilla_mailla_1848.wav\n",
      "/media/caijb/data_drive/data/french/lesmis/lesmis_2686.wav\n",
      "/media/caijb/data_drive/data/french/lesmis/lesmis_2687.wav\n",
      "/media/caijb/data_drive/data/french/lesmis/lesmis_2696.wav\n",
      "/media/caijb/data_drive/data/french/lesmis/lesmis_2697.wav\n",
      "/media/caijb/data_drive/data/french/lesmis/lesmis_2706.wav\n",
      "/media/caijb/data_drive/data/french/lesmis/lesmis_2707.wav\n",
      "/media/caijb/data_drive/data/french/lesmis/lesmis_2716.wav\n",
      "/media/caijb/data_drive/data/french/lesmis/lesmis_2717.wav\n",
      "/media/caijb/data_drive/data/french/lesmis/lesmis_2726.wav\n",
      "/media/caijb/data_drive/data/french/lesmis/lesmis_2727.wav\n",
      "/media/caijb/data_drive/data/french/lesmis/lesmis_2736.wav\n",
      "/media/caijb/data_drive/data/french/lesmis/lesmis_2737.wav\n",
      "/media/caijb/data_drive/data/french/lesmis/lesmis_2746.wav\n",
      "/media/caijb/data_drive/data/french/lesmis/lesmis_2747.wav\n",
      "/media/caijb/data_drive/data/french/lesmis/lesmis_2756.wav\n",
      "/media/caijb/data_drive/data/french/lesmis/lesmis_2757.wav\n",
      "/media/caijb/data_drive/data/french/lesmis/lesmis_2766.wav\n",
      "/media/caijb/data_drive/data/french/lesmis/lesmis_2767.wav\n",
      "/media/caijb/data_drive/data/french/lesmis/lesmis_2776.wav\n",
      "/media/caijb/data_drive/data/french/lesmis/lesmis_2777.wav\n"
     ]
    }
   ],
   "source": [
    "text_path = \"/media/caijb/data_drive/data/Zeroshot/CAE_seen_test.txt\"\n",
    "with open(text_path, \"r\") as f:\n",
    "    data = f.read()\n",
    "    data = data.split(\"\\n\")\n",
    "\n",
    "    \n",
    "result = []\n",
    "for i in data:\n",
    "    i = i.split(\"|\")\n",
    "    audio_path, sid = i[0], i[1]\n",
    "    print(audio_path)\n",
    "    mel = audio_processing(audio_path, hps)\n",
    "    vector = CAC.get_vector(mel)\n",
    "    vector = vector.squeeze()\n",
    "    #print(vector.size())\n",
    "    temp_vector = vector.tolist()\n",
    "    temp_vector.append(int(sid))\n",
    "    result.append(temp_vector)\n"
   ]
  },
  {
   "cell_type": "code",
   "execution_count": 18,
   "id": "bd297355",
   "metadata": {},
   "outputs": [],
   "source": [
    "import pandas as pd\n",
    "\n",
    "df = pd.DataFrame(result)\n",
    "df.to_csv(\"./result_lstm_Classification_unseen.csv\")"
   ]
  },
  {
   "cell_type": "code",
   "execution_count": 19,
   "id": "9d59977c",
   "metadata": {},
   "outputs": [
    {
     "data": {
      "text/html": [
       "<div>\n",
       "<style scoped>\n",
       "    .dataframe tbody tr th:only-of-type {\n",
       "        vertical-align: middle;\n",
       "    }\n",
       "\n",
       "    .dataframe tbody tr th {\n",
       "        vertical-align: top;\n",
       "    }\n",
       "\n",
       "    .dataframe thead th {\n",
       "        text-align: right;\n",
       "    }\n",
       "</style>\n",
       "<table border=\"1\" class=\"dataframe\">\n",
       "  <thead>\n",
       "    <tr style=\"text-align: right;\">\n",
       "      <th></th>\n",
       "      <th>0</th>\n",
       "      <th>1</th>\n",
       "      <th>2</th>\n",
       "      <th>3</th>\n",
       "      <th>4</th>\n",
       "      <th>5</th>\n",
       "      <th>6</th>\n",
       "      <th>7</th>\n",
       "      <th>8</th>\n",
       "      <th>9</th>\n",
       "      <th>...</th>\n",
       "      <th>247</th>\n",
       "      <th>248</th>\n",
       "      <th>249</th>\n",
       "      <th>250</th>\n",
       "      <th>251</th>\n",
       "      <th>252</th>\n",
       "      <th>253</th>\n",
       "      <th>254</th>\n",
       "      <th>255</th>\n",
       "      <th>256</th>\n",
       "    </tr>\n",
       "  </thead>\n",
       "  <tbody>\n",
       "    <tr>\n",
       "      <th>0</th>\n",
       "      <td>2.532487</td>\n",
       "      <td>0.884623</td>\n",
       "      <td>0.0</td>\n",
       "      <td>1.152709</td>\n",
       "      <td>5.122106</td>\n",
       "      <td>2.684014</td>\n",
       "      <td>0.000000</td>\n",
       "      <td>2.048186</td>\n",
       "      <td>0.960754</td>\n",
       "      <td>5.803578</td>\n",
       "      <td>...</td>\n",
       "      <td>0.023807</td>\n",
       "      <td>0.000000</td>\n",
       "      <td>1.733964</td>\n",
       "      <td>0.0</td>\n",
       "      <td>4.337831</td>\n",
       "      <td>0.568790</td>\n",
       "      <td>3.776996</td>\n",
       "      <td>4.200157</td>\n",
       "      <td>3.648714</td>\n",
       "      <td>125</td>\n",
       "    </tr>\n",
       "    <tr>\n",
       "      <th>1</th>\n",
       "      <td>2.598367</td>\n",
       "      <td>1.521461</td>\n",
       "      <td>0.0</td>\n",
       "      <td>1.577920</td>\n",
       "      <td>4.718325</td>\n",
       "      <td>2.645046</td>\n",
       "      <td>1.192500</td>\n",
       "      <td>1.936865</td>\n",
       "      <td>0.873191</td>\n",
       "      <td>5.103355</td>\n",
       "      <td>...</td>\n",
       "      <td>0.000000</td>\n",
       "      <td>0.000000</td>\n",
       "      <td>1.594547</td>\n",
       "      <td>0.0</td>\n",
       "      <td>5.799056</td>\n",
       "      <td>0.009052</td>\n",
       "      <td>4.647471</td>\n",
       "      <td>4.731514</td>\n",
       "      <td>3.406101</td>\n",
       "      <td>125</td>\n",
       "    </tr>\n",
       "    <tr>\n",
       "      <th>2</th>\n",
       "      <td>1.580585</td>\n",
       "      <td>2.884745</td>\n",
       "      <td>0.0</td>\n",
       "      <td>2.027004</td>\n",
       "      <td>4.117640</td>\n",
       "      <td>0.846199</td>\n",
       "      <td>3.443910</td>\n",
       "      <td>0.505734</td>\n",
       "      <td>0.866701</td>\n",
       "      <td>5.011739</td>\n",
       "      <td>...</td>\n",
       "      <td>0.000000</td>\n",
       "      <td>0.000000</td>\n",
       "      <td>2.193986</td>\n",
       "      <td>0.0</td>\n",
       "      <td>7.039680</td>\n",
       "      <td>0.000000</td>\n",
       "      <td>4.017830</td>\n",
       "      <td>4.554508</td>\n",
       "      <td>2.688118</td>\n",
       "      <td>125</td>\n",
       "    </tr>\n",
       "    <tr>\n",
       "      <th>3</th>\n",
       "      <td>2.422192</td>\n",
       "      <td>2.000773</td>\n",
       "      <td>0.0</td>\n",
       "      <td>1.538770</td>\n",
       "      <td>4.775778</td>\n",
       "      <td>2.377276</td>\n",
       "      <td>1.208594</td>\n",
       "      <td>2.153435</td>\n",
       "      <td>0.148059</td>\n",
       "      <td>5.418525</td>\n",
       "      <td>...</td>\n",
       "      <td>0.000000</td>\n",
       "      <td>0.044802</td>\n",
       "      <td>1.397721</td>\n",
       "      <td>0.0</td>\n",
       "      <td>6.099508</td>\n",
       "      <td>0.000000</td>\n",
       "      <td>4.320426</td>\n",
       "      <td>4.474401</td>\n",
       "      <td>3.706049</td>\n",
       "      <td>125</td>\n",
       "    </tr>\n",
       "    <tr>\n",
       "      <th>4</th>\n",
       "      <td>2.640088</td>\n",
       "      <td>0.768293</td>\n",
       "      <td>0.0</td>\n",
       "      <td>0.922852</td>\n",
       "      <td>5.468201</td>\n",
       "      <td>4.127509</td>\n",
       "      <td>0.000000</td>\n",
       "      <td>3.252757</td>\n",
       "      <td>0.700298</td>\n",
       "      <td>6.016169</td>\n",
       "      <td>...</td>\n",
       "      <td>0.000000</td>\n",
       "      <td>0.000000</td>\n",
       "      <td>1.132696</td>\n",
       "      <td>0.0</td>\n",
       "      <td>4.456598</td>\n",
       "      <td>0.635403</td>\n",
       "      <td>4.344661</td>\n",
       "      <td>4.366804</td>\n",
       "      <td>4.148387</td>\n",
       "      <td>125</td>\n",
       "    </tr>\n",
       "  </tbody>\n",
       "</table>\n",
       "<p>5 rows × 257 columns</p>\n",
       "</div>"
      ],
      "text/plain": [
       "        0         1    2         3         4         5         6         7    \\\n",
       "0  2.532487  0.884623  0.0  1.152709  5.122106  2.684014  0.000000  2.048186   \n",
       "1  2.598367  1.521461  0.0  1.577920  4.718325  2.645046  1.192500  1.936865   \n",
       "2  1.580585  2.884745  0.0  2.027004  4.117640  0.846199  3.443910  0.505734   \n",
       "3  2.422192  2.000773  0.0  1.538770  4.775778  2.377276  1.208594  2.153435   \n",
       "4  2.640088  0.768293  0.0  0.922852  5.468201  4.127509  0.000000  3.252757   \n",
       "\n",
       "        8         9    ...       247       248       249  250       251  \\\n",
       "0  0.960754  5.803578  ...  0.023807  0.000000  1.733964  0.0  4.337831   \n",
       "1  0.873191  5.103355  ...  0.000000  0.000000  1.594547  0.0  5.799056   \n",
       "2  0.866701  5.011739  ...  0.000000  0.000000  2.193986  0.0  7.039680   \n",
       "3  0.148059  5.418525  ...  0.000000  0.044802  1.397721  0.0  6.099508   \n",
       "4  0.700298  6.016169  ...  0.000000  0.000000  1.132696  0.0  4.456598   \n",
       "\n",
       "        252       253       254       255  256  \n",
       "0  0.568790  3.776996  4.200157  3.648714  125  \n",
       "1  0.009052  4.647471  4.731514  3.406101  125  \n",
       "2  0.000000  4.017830  4.554508  2.688118  125  \n",
       "3  0.000000  4.320426  4.474401  3.706049  125  \n",
       "4  0.635403  4.344661  4.366804  4.148387  125  \n",
       "\n",
       "[5 rows x 257 columns]"
      ]
     },
     "execution_count": 19,
     "metadata": {},
     "output_type": "execute_result"
    }
   ],
   "source": [
    "import matplotlib.pyplot as plt\n",
    "df.head()"
   ]
  },
  {
   "cell_type": "code",
   "execution_count": 20,
   "id": "3f481443",
   "metadata": {},
   "outputs": [],
   "source": [
    "y = df[[256]]\n",
    "\n",
    "y =y.replace(125,0)\n",
    "y =y.replace(124,1)\n",
    "y =y.replace(113,2)\n",
    "y =y.replace(115,3)\n",
    "y =y.replace(114,4)\n",
    "\n",
    "\"\"\"\n",
    "y =y.replace(2,0)\n",
    "y =y.replace(3,1)\n",
    "y =y.replace(4,2)\n",
    "y =y.replace(5,3)\n",
    "y =y.replace(6,4)\n",
    "\"\"\"\n",
    "x = df.drop([256],axis =1)"
   ]
  },
  {
   "cell_type": "code",
   "execution_count": 21,
   "id": "31180568",
   "metadata": {},
   "outputs": [],
   "source": [
    "from sklearn.preprocessing import StandardScaler\n",
    "\n",
    "scaler = StandardScaler()\n",
    "x_scaled = scaler.fit_transform(x)"
   ]
  },
  {
   "cell_type": "code",
   "execution_count": 22,
   "id": "45afe077",
   "metadata": {},
   "outputs": [],
   "source": [
    "from sklearn.decomposition import PCA\n",
    "pca =PCA(n_components = 2)\n",
    "pca.fit(x_scaled)\n",
    "x_pca = pca.transform(x_scaled)\n",
    "x_pca= pd.DataFrame(x_pca)\n",
    "x_pca['target']=y"
   ]
  },
  {
   "cell_type": "code",
   "execution_count": 23,
   "id": "d6872eb7",
   "metadata": {
    "scrolled": false
   },
   "outputs": [],
   "source": [
    "markers = ['o', '^', 's', 'x','p']\n",
    "#name = ['125', '124','113', '115', '114']\n",
    "name = ['jing Li','Bart de Leeuw','Tux','HarroTapani Ylilammi','Gilles G.Le Blanc']\n",
    "sid_list = [125, 124, 113, 115, 114]"
   ]
  },
  {
   "cell_type": "code",
   "execution_count": 24,
   "id": "2a2257e6",
   "metadata": {
    "scrolled": true
   },
   "outputs": [
    {
     "data": {
      "image/png": "[encoded data removed]",
      "text/plain": [
       "<Figure size 360x360 with 1 Axes>"
      ]
     },
     "metadata": {
      "needs_background": "light"
     },
     "output_type": "display_data"
    }
   ],
   "source": [
    "fig = plt.figure(figsize=(5,5))\n",
    "#ax = fig.gca(projection='3d')\n",
    "for i, marker in enumerate(markers) :\n",
    "    x_axis = x_pca[x_pca['target']==i][0]\n",
    "    y_axis = x_pca[x_pca['target']==i][1]\n",
    "    \n",
    "    plt.scatter(x_axis,y_axis, marker=marker, label = name[i])\n",
    "\n",
    "plt.legend(loc='upper left')\n",
    "plt.xlabel('component 1')\n",
    "plt.ylabel('component 2')\n",
    "plt.show()"
   ]
  },
  {
   "cell_type": "code",
   "execution_count": 25,
   "id": "1b7887ce",
   "metadata": {},
   "outputs": [
    {
     "name": "stderr",
     "output_type": "stream",
     "text": [
      "/home/caijb/anaconda3/envs/pytts/lib/python3.7/site-packages/sklearn/utils/validation.py:993: DataConversionWarning: A column-vector y was passed when a 1d array was expected. Please change the shape of y to (n_samples, ), for example using ravel().\n",
      "  y = column_or_1d(y, warn=True)\n"
     ]
    }
   ],
   "source": [
    "from sklearn.discriminant_analysis import LinearDiscriminantAnalysis\n",
    "lda= LinearDiscriminantAnalysis(n_components =2)\n",
    "#scaler = StandardScaler()\n",
    "#x_scaled = scaler.fit_transform(x)\n",
    "lda.fit(x_scaled,y)\n",
    "x_lda = lda.transform(x_scaled)\n",
    "x_lda = pd.DataFrame(x_lda)\n",
    "x_lda['target'] = y"
   ]
  },
  {
   "cell_type": "code",
   "execution_count": 26,
   "id": "cd51304c",
   "metadata": {},
   "outputs": [],
   "source": [
    "#import sklearn.externals import joblib\n",
    "#save_model = joblib.dump(lda,'lda.pkl')"
   ]
  },
  {
   "cell_type": "code",
   "execution_count": 28,
   "id": "e3ca7467",
   "metadata": {},
   "outputs": [
    {
     "data": {
      "image/png": "[encoded data removed]",
      "text/plain": [
       "<Figure size 360x360 with 1 Axes>"
      ]
     },
     "metadata": {
      "needs_background": "light"
     },
     "output_type": "display_data"
    }
   ],
   "source": [
    "fig = plt.figure(figsize=(5,5))\n",
    "#ax = fig.gca(projection='3d')\n",
    "for i, marker in enumerate(markers) :\n",
    "    x_axis = x_lda[x_lda['target']==i][0]\n",
    "    y_axis = x_lda[x_lda['target']==i][1]\n",
    "    plt.scatter(x_axis,y_axis, marker=marker, label = name[i])\n",
    "\n",
    "plt.legend(loc='lower left')\n",
    "plt.xlabel('component 1')\n",
    "plt.ylabel('component 2')\n",
    "plt.show()"
   ]
  },
  {
   "cell_type": "code",
   "execution_count": null,
   "id": "d11de8fa",
   "metadata": {},
   "outputs": [],
   "source": []
  }
 ],
 "metadata": {
  "kernelspec": {
   "display_name": "Python 3 (ipykernel)",
   "language": "python",
   "name": "python3"
  },
  "language_info": {
   "codemirror_mode": {
    "name": "ipython",
    "version": 3
   },
   "file_extension": ".py",
   "mimetype": "text/x-python",
   "name": "python",
   "nbconvert_exporter": "python",
   "pygments_lexer": "ipython3",
   "version": "3.7.13"
  }
 },
 "nbformat": 4,
 "nbformat_minor": 5
}
