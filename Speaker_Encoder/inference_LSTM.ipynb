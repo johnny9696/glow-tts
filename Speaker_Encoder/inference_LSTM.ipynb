{
 "cells": [
  {
   "cell_type": "code",
   "execution_count": 2,
   "id": "e112475a",
   "metadata": {},
   "outputs": [],
   "source": [
    "import json\n",
    "import os\n",
    "import argparse\n",
    "import sys\n",
    "\n",
    "import torch\n",
    "from torch import nn, optim\n",
    "from torch.nn import functional as F\n",
    "from speaker_encoder import LSTM as model\n",
    "\n",
    "sys.path.append(os.path.dirname(os.path.abspath(os.path.dirname(\"\"))))\n",
    "import commons\n",
    "import utils\n",
    "from utils import load_filepaths_and_text, load_wav_to_torch"
   ]
  },
  {
   "cell_type": "code",
   "execution_count": 3,
   "id": "ef591a0d",
   "metadata": {},
   "outputs": [],
   "source": [
    "def audio_processing(audio_path, hps):\n",
    "    audio, sr = load_wav_to_torch(audio_path)\n",
    "    audio_norm = audio/ hps.data.max_wav_value\n",
    "    audio_norm = audio_norm.unsqueeze(0)\n",
    "    stft = commons.TacotronSTFT(hps.data.filter_length, hps.data.hop_length, \n",
    "                               hps.data.win_length, hps.data.n_mel_channels, \n",
    "                               hps.data.sampling_rate, hps.data.mel_fmin,\n",
    "                               hps.data.mel_fmax)\n",
    "    melspec = stft.mel_spectrogram(audio_norm)\n",
    "    melspec = torch.squeeze(torch.tensor(melspec),0)\n",
    "    melspec = torch.abs(melspec)\n",
    "    \n",
    "    frames = hps.data.slice_length\n",
    "    mel_padded = torch.FloatTensor(1, hps.data.n_mel_channels, frames)\n",
    "    mel_padded.zero_()\n",
    "    if melspec.size(1) < frames:\n",
    "        mel_padded[:, :, :melspec.size(1)] = melspec\n",
    "    else : \n",
    "        mel_padded[:, :, :frames] = melspec[:, :frames]\n",
    "    return mel_padded/torch.max(mel_padded)"
   ]
  },
  {
   "cell_type": "code",
   "execution_count": 6,
   "id": "f49ff16a",
   "metadata": {},
   "outputs": [
    {
     "name": "stdout",
     "output_type": "stream",
     "text": [
      "INFO:root:Loaded checkpoint '/media/caijb/data_drive/GE2E/log/LSTM/EMB_120.pth' (iteration 120)\n"
     ]
    }
   ],
   "source": [
    "saved_model_path = \"/media/caijb/data_drive/GE2E/log/LSTM\"\n",
    "config_path = os.path.join(saved_model_path, \"config.json\")\n",
    "with open(config_path,\"r\") as f:\n",
    "        data = f.read()\n",
    "config = json.loads(data)\n",
    "hps = utils.HParams(**config)\n",
    "\n",
    "\n",
    "#checkpoint_path = utils.latest_checkpoint_path(saved_model_path)\n",
    "checkpoint_path = os.path.join(saved_model_path, 'EMB_120.pth')\n",
    "CAC = model(input_size=hps.data.n_mel_channels, hidden_size=hps.model.l_hidden,embedding_size= hps.model.embedding_size\n",
    "            , num_layers=hps.model.num_layers)\n",
    "\n",
    "CAC, _, _, _ = utils.load_checkpoint(checkpoint_path, CAC)"
   ]
  },
  {
   "cell_type": "code",
   "execution_count": 8,
   "id": "32a68bb9",
   "metadata": {},
   "outputs": [
    {
     "name": "stdout",
     "output_type": "stream",
     "text": [
      "/media/caijb/data_drive/data/vctk/VCTK-Corpus/wav48/p225/p225_009.wav\n"
     ]
    },
    {
     "name": "stderr",
     "output_type": "stream",
     "text": [
      "/home/caijb/anaconda3/envs/pytts/lib/python3.7/site-packages/ipykernel_launcher.py:10: UserWarning: To copy construct from a tensor, it is recommended to use sourceTensor.clone().detach() or sourceTensor.clone().detach().requires_grad_(True), rather than torch.tensor(sourceTensor).\n",
      "  # Remove the CWD from sys.path while we load stuff.\n"
     ]
    },
    {
     "ename": "RuntimeError",
     "evalue": "input.size(-1) must be equal to input_size. Expected 80, got 430",
     "output_type": "error",
     "traceback": [
      "\u001b[0;31m---------------------------------------------------------------------------\u001b[0m",
      "\u001b[0;31mRuntimeError\u001b[0m                              Traceback (most recent call last)",
      "\u001b[0;32m/tmp/ipykernel_52452/2412403151.py\u001b[0m in \u001b[0;36m<module>\u001b[0;34m\u001b[0m\n\u001b[1;32m     11\u001b[0m     \u001b[0mprint\u001b[0m\u001b[0;34m(\u001b[0m\u001b[0maudio_path\u001b[0m\u001b[0;34m)\u001b[0m\u001b[0;34m\u001b[0m\u001b[0;34m\u001b[0m\u001b[0m\n\u001b[1;32m     12\u001b[0m     \u001b[0mmel\u001b[0m \u001b[0;34m=\u001b[0m \u001b[0maudio_processing\u001b[0m\u001b[0;34m(\u001b[0m\u001b[0maudio_path\u001b[0m\u001b[0;34m,\u001b[0m \u001b[0mhps\u001b[0m\u001b[0;34m)\u001b[0m\u001b[0;34m\u001b[0m\u001b[0;34m\u001b[0m\u001b[0m\n\u001b[0;32m---> 13\u001b[0;31m     \u001b[0mvector\u001b[0m \u001b[0;34m=\u001b[0m \u001b[0mCAC\u001b[0m\u001b[0;34m(\u001b[0m\u001b[0mmel\u001b[0m\u001b[0;34m)\u001b[0m\u001b[0;34m\u001b[0m\u001b[0;34m\u001b[0m\u001b[0m\n\u001b[0m\u001b[1;32m     14\u001b[0m     \u001b[0;31m#vector = vector.squeeze()\u001b[0m\u001b[0;34m\u001b[0m\u001b[0;34m\u001b[0m\u001b[0;34m\u001b[0m\u001b[0m\n\u001b[1;32m     15\u001b[0m     \u001b[0mtemp_vector\u001b[0m \u001b[0;34m=\u001b[0m \u001b[0mvector\u001b[0m\u001b[0;34m.\u001b[0m\u001b[0mtolist\u001b[0m\u001b[0;34m(\u001b[0m\u001b[0;34m)\u001b[0m\u001b[0;34m\u001b[0m\u001b[0;34m\u001b[0m\u001b[0m\n",
      "\u001b[0;32m~/anaconda3/envs/pytts/lib/python3.7/site-packages/torch/nn/modules/module.py\u001b[0m in \u001b[0;36m_call_impl\u001b[0;34m(self, *input, **kwargs)\u001b[0m\n\u001b[1;32m   1128\u001b[0m         if not (self._backward_hooks or self._forward_hooks or self._forward_pre_hooks or _global_backward_hooks\n\u001b[1;32m   1129\u001b[0m                 or _global_forward_hooks or _global_forward_pre_hooks):\n\u001b[0;32m-> 1130\u001b[0;31m             \u001b[0;32mreturn\u001b[0m \u001b[0mforward_call\u001b[0m\u001b[0;34m(\u001b[0m\u001b[0;34m*\u001b[0m\u001b[0minput\u001b[0m\u001b[0;34m,\u001b[0m \u001b[0;34m**\u001b[0m\u001b[0mkwargs\u001b[0m\u001b[0;34m)\u001b[0m\u001b[0;34m\u001b[0m\u001b[0;34m\u001b[0m\u001b[0m\n\u001b[0m\u001b[1;32m   1131\u001b[0m         \u001b[0;31m# Do not call functions when jit is used\u001b[0m\u001b[0;34m\u001b[0m\u001b[0;34m\u001b[0m\u001b[0;34m\u001b[0m\u001b[0m\n\u001b[1;32m   1132\u001b[0m         \u001b[0mfull_backward_hooks\u001b[0m\u001b[0;34m,\u001b[0m \u001b[0mnon_full_backward_hooks\u001b[0m \u001b[0;34m=\u001b[0m \u001b[0;34m[\u001b[0m\u001b[0;34m]\u001b[0m\u001b[0;34m,\u001b[0m \u001b[0;34m[\u001b[0m\u001b[0;34m]\u001b[0m\u001b[0;34m\u001b[0m\u001b[0;34m\u001b[0m\u001b[0m\n",
      "\u001b[0;32m~/Desktop/zero_shot_glowtts/Speaker_Encoder/speaker_encoder.py\u001b[0m in \u001b[0;36mforward\u001b[0;34m(self, mel)\u001b[0m\n\u001b[1;32m     15\u001b[0m \u001b[0;34m\u001b[0m\u001b[0m\n\u001b[1;32m     16\u001b[0m     \u001b[0;32mdef\u001b[0m \u001b[0mforward\u001b[0m\u001b[0;34m(\u001b[0m\u001b[0mself\u001b[0m\u001b[0;34m,\u001b[0m \u001b[0mmel\u001b[0m\u001b[0;34m)\u001b[0m\u001b[0;34m:\u001b[0m\u001b[0;34m\u001b[0m\u001b[0;34m\u001b[0m\u001b[0m\n\u001b[0;32m---> 17\u001b[0;31m         \u001b[0m_\u001b[0m\u001b[0;34m,\u001b[0m \u001b[0;34m(\u001b[0m\u001b[0mmel\u001b[0m\u001b[0;34m,\u001b[0m\u001b[0m_\u001b[0m\u001b[0;34m)\u001b[0m\u001b[0;34m=\u001b[0m\u001b[0mself\u001b[0m\u001b[0;34m.\u001b[0m\u001b[0mlayer3_lstm\u001b[0m\u001b[0;34m(\u001b[0m\u001b[0mmel\u001b[0m\u001b[0;34m)\u001b[0m \u001b[0;31m#[b, frames, hidden]\u001b[0m\u001b[0;34m\u001b[0m\u001b[0;34m\u001b[0m\u001b[0m\n\u001b[0m\u001b[1;32m     18\u001b[0m         \u001b[0;31m#mel = torch.sum(mel, dim =1)/mel.size(1) #[b,hidden]\u001b[0m\u001b[0;34m\u001b[0m\u001b[0;34m\u001b[0m\u001b[0;34m\u001b[0m\u001b[0m\n\u001b[1;32m     19\u001b[0m         \u001b[0mmel\u001b[0m \u001b[0;34m=\u001b[0m \u001b[0mself\u001b[0m\u001b[0;34m.\u001b[0m\u001b[0mlinear\u001b[0m\u001b[0;34m(\u001b[0m\u001b[0mmel\u001b[0m\u001b[0;34m[\u001b[0m\u001b[0;34m-\u001b[0m\u001b[0;36m1\u001b[0m\u001b[0;34m]\u001b[0m\u001b[0;34m)\u001b[0m\u001b[0;34m\u001b[0m\u001b[0;34m\u001b[0m\u001b[0m\n",
      "\u001b[0;32m~/anaconda3/envs/pytts/lib/python3.7/site-packages/torch/nn/modules/module.py\u001b[0m in \u001b[0;36m_call_impl\u001b[0;34m(self, *input, **kwargs)\u001b[0m\n\u001b[1;32m   1128\u001b[0m         if not (self._backward_hooks or self._forward_hooks or self._forward_pre_hooks or _global_backward_hooks\n\u001b[1;32m   1129\u001b[0m                 or _global_forward_hooks or _global_forward_pre_hooks):\n\u001b[0;32m-> 1130\u001b[0;31m             \u001b[0;32mreturn\u001b[0m \u001b[0mforward_call\u001b[0m\u001b[0;34m(\u001b[0m\u001b[0;34m*\u001b[0m\u001b[0minput\u001b[0m\u001b[0;34m,\u001b[0m \u001b[0;34m**\u001b[0m\u001b[0mkwargs\u001b[0m\u001b[0;34m)\u001b[0m\u001b[0;34m\u001b[0m\u001b[0;34m\u001b[0m\u001b[0m\n\u001b[0m\u001b[1;32m   1131\u001b[0m         \u001b[0;31m# Do not call functions when jit is used\u001b[0m\u001b[0;34m\u001b[0m\u001b[0;34m\u001b[0m\u001b[0;34m\u001b[0m\u001b[0m\n\u001b[1;32m   1132\u001b[0m         \u001b[0mfull_backward_hooks\u001b[0m\u001b[0;34m,\u001b[0m \u001b[0mnon_full_backward_hooks\u001b[0m \u001b[0;34m=\u001b[0m \u001b[0;34m[\u001b[0m\u001b[0;34m]\u001b[0m\u001b[0;34m,\u001b[0m \u001b[0;34m[\u001b[0m\u001b[0;34m]\u001b[0m\u001b[0;34m\u001b[0m\u001b[0;34m\u001b[0m\u001b[0m\n",
      "\u001b[0;32m~/anaconda3/envs/pytts/lib/python3.7/site-packages/torch/nn/modules/rnn.py\u001b[0m in \u001b[0;36mforward\u001b[0;34m(self, input, hx)\u001b[0m\n\u001b[1;32m    765\u001b[0m             \u001b[0mhx\u001b[0m \u001b[0;34m=\u001b[0m \u001b[0mself\u001b[0m\u001b[0;34m.\u001b[0m\u001b[0mpermute_hidden\u001b[0m\u001b[0;34m(\u001b[0m\u001b[0mhx\u001b[0m\u001b[0;34m,\u001b[0m \u001b[0msorted_indices\u001b[0m\u001b[0;34m)\u001b[0m\u001b[0;34m\u001b[0m\u001b[0;34m\u001b[0m\u001b[0m\n\u001b[1;32m    766\u001b[0m \u001b[0;34m\u001b[0m\u001b[0m\n\u001b[0;32m--> 767\u001b[0;31m         \u001b[0mself\u001b[0m\u001b[0;34m.\u001b[0m\u001b[0mcheck_forward_args\u001b[0m\u001b[0;34m(\u001b[0m\u001b[0minput\u001b[0m\u001b[0;34m,\u001b[0m \u001b[0mhx\u001b[0m\u001b[0;34m,\u001b[0m \u001b[0mbatch_sizes\u001b[0m\u001b[0;34m)\u001b[0m\u001b[0;34m\u001b[0m\u001b[0;34m\u001b[0m\u001b[0m\n\u001b[0m\u001b[1;32m    768\u001b[0m         \u001b[0;32mif\u001b[0m \u001b[0mbatch_sizes\u001b[0m \u001b[0;32mis\u001b[0m \u001b[0;32mNone\u001b[0m\u001b[0;34m:\u001b[0m\u001b[0;34m\u001b[0m\u001b[0;34m\u001b[0m\u001b[0m\n\u001b[1;32m    769\u001b[0m             result = _VF.lstm(input, hx, self._flat_weights, self.bias, self.num_layers,\n",
      "\u001b[0;32m~/anaconda3/envs/pytts/lib/python3.7/site-packages/torch/nn/modules/rnn.py\u001b[0m in \u001b[0;36mcheck_forward_args\u001b[0;34m(self, input, hidden, batch_sizes)\u001b[0m\n\u001b[1;32m    690\u001b[0m                            \u001b[0mbatch_sizes\u001b[0m\u001b[0;34m:\u001b[0m \u001b[0mOptional\u001b[0m\u001b[0;34m[\u001b[0m\u001b[0mTensor\u001b[0m\u001b[0;34m]\u001b[0m\u001b[0;34m,\u001b[0m\u001b[0;34m\u001b[0m\u001b[0;34m\u001b[0m\u001b[0m\n\u001b[1;32m    691\u001b[0m                            ):\n\u001b[0;32m--> 692\u001b[0;31m         \u001b[0mself\u001b[0m\u001b[0;34m.\u001b[0m\u001b[0mcheck_input\u001b[0m\u001b[0;34m(\u001b[0m\u001b[0minput\u001b[0m\u001b[0;34m,\u001b[0m \u001b[0mbatch_sizes\u001b[0m\u001b[0;34m)\u001b[0m\u001b[0;34m\u001b[0m\u001b[0;34m\u001b[0m\u001b[0m\n\u001b[0m\u001b[1;32m    693\u001b[0m         self.check_hidden_size(hidden[0], self.get_expected_hidden_size(input, batch_sizes),\n\u001b[1;32m    694\u001b[0m                                'Expected hidden[0] size {}, got {}')\n",
      "\u001b[0;32m~/anaconda3/envs/pytts/lib/python3.7/site-packages/torch/nn/modules/rnn.py\u001b[0m in \u001b[0;36mcheck_input\u001b[0;34m(self, input, batch_sizes)\u001b[0m\n\u001b[1;32m    205\u001b[0m             raise RuntimeError(\n\u001b[1;32m    206\u001b[0m                 'input.size(-1) must be equal to input_size. Expected {}, got {}'.format(\n\u001b[0;32m--> 207\u001b[0;31m                     self.input_size, input.size(-1)))\n\u001b[0m\u001b[1;32m    208\u001b[0m \u001b[0;34m\u001b[0m\u001b[0m\n\u001b[1;32m    209\u001b[0m     \u001b[0;32mdef\u001b[0m \u001b[0mget_expected_hidden_size\u001b[0m\u001b[0;34m(\u001b[0m\u001b[0mself\u001b[0m\u001b[0;34m,\u001b[0m \u001b[0minput\u001b[0m\u001b[0;34m:\u001b[0m \u001b[0mTensor\u001b[0m\u001b[0;34m,\u001b[0m \u001b[0mbatch_sizes\u001b[0m\u001b[0;34m:\u001b[0m \u001b[0mOptional\u001b[0m\u001b[0;34m[\u001b[0m\u001b[0mTensor\u001b[0m\u001b[0;34m]\u001b[0m\u001b[0;34m)\u001b[0m \u001b[0;34m->\u001b[0m \u001b[0mTuple\u001b[0m\u001b[0;34m[\u001b[0m\u001b[0mint\u001b[0m\u001b[0;34m,\u001b[0m \u001b[0mint\u001b[0m\u001b[0;34m,\u001b[0m \u001b[0mint\u001b[0m\u001b[0;34m]\u001b[0m\u001b[0;34m:\u001b[0m\u001b[0;34m\u001b[0m\u001b[0;34m\u001b[0m\u001b[0m\n",
      "\u001b[0;31mRuntimeError\u001b[0m: input.size(-1) must be equal to input_size. Expected 80, got 430"
     ]
    }
   ],
   "source": [
    "text_path = \"/media/caijb/data_drive/data/Zeroshot/vctk_tester.txt\"\n",
    "with open(text_path, \"r\") as f:\n",
    "    data = f.read()\n",
    "    data = data.split(\"\\n\")\n",
    "\n",
    "    \n",
    "result = []\n",
    "for i in data:\n",
    "    i = i.split(\"|\")\n",
    "    audio_path, sid = i[0], i[1]\n",
    "    print(audio_path)\n",
    "    mel = audio_processing(audio_path, hps)\n",
    "    vector = CAC(mel)\n",
    "    #vector = vector.squeeze()\n",
    "    temp_vector = vector.tolist()\n",
    "    temp_vector.append(int(sid))\n",
    "    result.append(temp_vector)\n"
   ]
  },
  {
   "cell_type": "code",
   "execution_count": 5,
   "id": "fa9030f4",
   "metadata": {},
   "outputs": [],
   "source": [
    "import pandas as pd\n",
    "\n",
    "df = pd.DataFrame(result)\n",
    "#df.to_csv(\"./result_seen.csv\")"
   ]
  },
  {
   "cell_type": "code",
   "execution_count": 6,
   "id": "5516336e",
   "metadata": {},
   "outputs": [
    {
     "data": {
      "text/html": [
       "<div>\n",
       "<style scoped>\n",
       "    .dataframe tbody tr th:only-of-type {\n",
       "        vertical-align: middle;\n",
       "    }\n",
       "\n",
       "    .dataframe tbody tr th {\n",
       "        vertical-align: top;\n",
       "    }\n",
       "\n",
       "    .dataframe thead th {\n",
       "        text-align: right;\n",
       "    }\n",
       "</style>\n",
       "<table border=\"1\" class=\"dataframe\">\n",
       "  <thead>\n",
       "    <tr style=\"text-align: right;\">\n",
       "      <th></th>\n",
       "      <th>0</th>\n",
       "      <th>1</th>\n",
       "      <th>2</th>\n",
       "      <th>3</th>\n",
       "      <th>4</th>\n",
       "      <th>5</th>\n",
       "      <th>6</th>\n",
       "      <th>7</th>\n",
       "      <th>8</th>\n",
       "      <th>9</th>\n",
       "      <th>...</th>\n",
       "      <th>247</th>\n",
       "      <th>248</th>\n",
       "      <th>249</th>\n",
       "      <th>250</th>\n",
       "      <th>251</th>\n",
       "      <th>252</th>\n",
       "      <th>253</th>\n",
       "      <th>254</th>\n",
       "      <th>255</th>\n",
       "      <th>256</th>\n",
       "    </tr>\n",
       "  </thead>\n",
       "  <tbody>\n",
       "    <tr>\n",
       "      <th>0</th>\n",
       "      <td>0.090479</td>\n",
       "      <td>0.027249</td>\n",
       "      <td>0.068876</td>\n",
       "      <td>0.046514</td>\n",
       "      <td>0.043302</td>\n",
       "      <td>0.040566</td>\n",
       "      <td>-0.004987</td>\n",
       "      <td>-0.029238</td>\n",
       "      <td>-0.013886</td>\n",
       "      <td>-0.014279</td>\n",
       "      <td>...</td>\n",
       "      <td>-0.064948</td>\n",
       "      <td>0.032851</td>\n",
       "      <td>0.024236</td>\n",
       "      <td>-0.037492</td>\n",
       "      <td>0.010109</td>\n",
       "      <td>-0.014445</td>\n",
       "      <td>0.059455</td>\n",
       "      <td>-0.037614</td>\n",
       "      <td>0.013767</td>\n",
       "      <td>2</td>\n",
       "    </tr>\n",
       "    <tr>\n",
       "      <th>1</th>\n",
       "      <td>-0.013680</td>\n",
       "      <td>-0.010990</td>\n",
       "      <td>-0.029377</td>\n",
       "      <td>-0.032276</td>\n",
       "      <td>0.012549</td>\n",
       "      <td>-0.014356</td>\n",
       "      <td>0.053102</td>\n",
       "      <td>-0.021164</td>\n",
       "      <td>0.039867</td>\n",
       "      <td>0.012338</td>\n",
       "      <td>...</td>\n",
       "      <td>-0.019115</td>\n",
       "      <td>-0.036301</td>\n",
       "      <td>0.021456</td>\n",
       "      <td>0.000858</td>\n",
       "      <td>-0.016963</td>\n",
       "      <td>-0.014746</td>\n",
       "      <td>0.000314</td>\n",
       "      <td>-0.034903</td>\n",
       "      <td>0.010951</td>\n",
       "      <td>2</td>\n",
       "    </tr>\n",
       "    <tr>\n",
       "      <th>2</th>\n",
       "      <td>0.002728</td>\n",
       "      <td>-0.022807</td>\n",
       "      <td>-0.061000</td>\n",
       "      <td>-0.045168</td>\n",
       "      <td>0.021274</td>\n",
       "      <td>-0.033501</td>\n",
       "      <td>0.132868</td>\n",
       "      <td>-0.001276</td>\n",
       "      <td>-0.035671</td>\n",
       "      <td>-0.026024</td>\n",
       "      <td>...</td>\n",
       "      <td>-0.028799</td>\n",
       "      <td>-0.023705</td>\n",
       "      <td>0.013337</td>\n",
       "      <td>0.014546</td>\n",
       "      <td>-0.004546</td>\n",
       "      <td>0.049708</td>\n",
       "      <td>0.054642</td>\n",
       "      <td>0.025113</td>\n",
       "      <td>0.016720</td>\n",
       "      <td>2</td>\n",
       "    </tr>\n",
       "    <tr>\n",
       "      <th>3</th>\n",
       "      <td>0.121962</td>\n",
       "      <td>-0.094429</td>\n",
       "      <td>0.016251</td>\n",
       "      <td>-0.066567</td>\n",
       "      <td>0.043523</td>\n",
       "      <td>-0.239597</td>\n",
       "      <td>-0.099682</td>\n",
       "      <td>0.057693</td>\n",
       "      <td>0.067126</td>\n",
       "      <td>0.001666</td>\n",
       "      <td>...</td>\n",
       "      <td>-0.002651</td>\n",
       "      <td>0.042361</td>\n",
       "      <td>-0.013857</td>\n",
       "      <td>0.064948</td>\n",
       "      <td>-0.176408</td>\n",
       "      <td>0.055768</td>\n",
       "      <td>0.119238</td>\n",
       "      <td>0.084479</td>\n",
       "      <td>-0.025071</td>\n",
       "      <td>2</td>\n",
       "    </tr>\n",
       "    <tr>\n",
       "      <th>4</th>\n",
       "      <td>-0.009419</td>\n",
       "      <td>0.031573</td>\n",
       "      <td>0.007807</td>\n",
       "      <td>0.029015</td>\n",
       "      <td>-0.033695</td>\n",
       "      <td>0.037514</td>\n",
       "      <td>0.008581</td>\n",
       "      <td>0.023114</td>\n",
       "      <td>-0.012721</td>\n",
       "      <td>-0.025765</td>\n",
       "      <td>...</td>\n",
       "      <td>-0.027814</td>\n",
       "      <td>0.026492</td>\n",
       "      <td>0.002588</td>\n",
       "      <td>-0.015395</td>\n",
       "      <td>-0.036455</td>\n",
       "      <td>-0.050219</td>\n",
       "      <td>0.023138</td>\n",
       "      <td>-0.042009</td>\n",
       "      <td>0.003866</td>\n",
       "      <td>2</td>\n",
       "    </tr>\n",
       "  </tbody>\n",
       "</table>\n",
       "<p>5 rows × 257 columns</p>\n",
       "</div>"
      ],
      "text/plain": [
       "        0         1         2         3         4         5         6    \\\n",
       "0  0.090479  0.027249  0.068876  0.046514  0.043302  0.040566 -0.004987   \n",
       "1 -0.013680 -0.010990 -0.029377 -0.032276  0.012549 -0.014356  0.053102   \n",
       "2  0.002728 -0.022807 -0.061000 -0.045168  0.021274 -0.033501  0.132868   \n",
       "3  0.121962 -0.094429  0.016251 -0.066567  0.043523 -0.239597 -0.099682   \n",
       "4 -0.009419  0.031573  0.007807  0.029015 -0.033695  0.037514  0.008581   \n",
       "\n",
       "        7         8         9    ...       247       248       249       250  \\\n",
       "0 -0.029238 -0.013886 -0.014279  ... -0.064948  0.032851  0.024236 -0.037492   \n",
       "1 -0.021164  0.039867  0.012338  ... -0.019115 -0.036301  0.021456  0.000858   \n",
       "2 -0.001276 -0.035671 -0.026024  ... -0.028799 -0.023705  0.013337  0.014546   \n",
       "3  0.057693  0.067126  0.001666  ... -0.002651  0.042361 -0.013857  0.064948   \n",
       "4  0.023114 -0.012721 -0.025765  ... -0.027814  0.026492  0.002588 -0.015395   \n",
       "\n",
       "        251       252       253       254       255  256  \n",
       "0  0.010109 -0.014445  0.059455 -0.037614  0.013767    2  \n",
       "1 -0.016963 -0.014746  0.000314 -0.034903  0.010951    2  \n",
       "2 -0.004546  0.049708  0.054642  0.025113  0.016720    2  \n",
       "3 -0.176408  0.055768  0.119238  0.084479 -0.025071    2  \n",
       "4 -0.036455 -0.050219  0.023138 -0.042009  0.003866    2  \n",
       "\n",
       "[5 rows x 257 columns]"
      ]
     },
     "execution_count": 6,
     "metadata": {},
     "output_type": "execute_result"
    }
   ],
   "source": [
    "import matplotlib.pyplot as plt\n",
    "df.head()"
   ]
  },
  {
   "cell_type": "code",
   "execution_count": 7,
   "id": "28acdeb8",
   "metadata": {},
   "outputs": [],
   "source": [
    "y = df[[256]]\n",
    "\"\"\"\n",
    "y =y.replace(125,0)\n",
    "y =y.replace(124,1)\n",
    "y =y.replace(113,2)\n",
    "y =y.replace(115,3)\n",
    "y =y.replace(114,4)\n",
    "\n",
    "\"\"\"\n",
    "y =y.replace(2,0)\n",
    "y =y.replace(3,1)\n",
    "y =y.replace(4,2)\n",
    "y =y.replace(5,3)\n",
    "y =y.replace(6,4)\n",
    "\n",
    "x = df.drop([256],axis =1)"
   ]
  },
  {
   "cell_type": "code",
   "execution_count": 8,
   "id": "2dbf7d68",
   "metadata": {},
   "outputs": [],
   "source": [
    "from sklearn.preprocessing import StandardScaler\n",
    "\n",
    "scaler = StandardScaler()\n",
    "x_scaled = scaler.fit_transform(x)"
   ]
  },
  {
   "cell_type": "code",
   "execution_count": 9,
   "id": "9b3ced9c",
   "metadata": {},
   "outputs": [],
   "source": [
    "from sklearn.decomposition import PCA\n",
    "pca =PCA(n_components = 2)\n",
    "pca.fit(x_scaled)\n",
    "x_pca = pca.transform(x_scaled)\n",
    "x_pca= pd.DataFrame(x_pca)\n",
    "x_pca['target']=y"
   ]
  },
  {
   "cell_type": "code",
   "execution_count": 10,
   "id": "d6e8bb2c",
   "metadata": {
    "scrolled": false
   },
   "outputs": [],
   "source": [
    "markers = ['o', '^', 's', 'x','p']\n",
    "name = ['125', '124','113', '115', '114']\n",
    "sid_list = [125, 124, 113, 115, 114]"
   ]
  },
  {
   "cell_type": "code",
   "execution_count": 11,
   "id": "4d6f088c",
   "metadata": {
    "scrolled": true
   },
   "outputs": [
    {
     "data": {
      "image/png": "[encoded data removed]",
      "text/plain": [
       "<Figure size 360x360 with 1 Axes>"
      ]
     },
     "metadata": {
      "needs_background": "light"
     },
     "output_type": "display_data"
    }
   ],
   "source": [
    "fig = plt.figure(figsize=(5,5))\n",
    "#ax = fig.gca(projection='3d')\n",
    "for i, marker in enumerate(markers) :\n",
    "    x_axis = x_pca[x_pca['target']==i][0]\n",
    "    y_axis = x_pca[x_pca['target']==i][1]\n",
    "    \n",
    "    plt.scatter(x_axis,y_axis, marker=marker, label = name[i])\n",
    "\n",
    "plt.legend(loc='upper left')\n",
    "plt.xlabel('component 1')\n",
    "plt.ylabel('component 2')\n",
    "plt.show()"
   ]
  },
  {
   "cell_type": "code",
   "execution_count": 12,
   "id": "a1199671",
   "metadata": {},
   "outputs": [
    {
     "name": "stderr",
     "output_type": "stream",
     "text": [
      "/home/caijb/anaconda3/envs/pytts/lib/python3.7/site-packages/sklearn/utils/validation.py:993: DataConversionWarning: A column-vector y was passed when a 1d array was expected. Please change the shape of y to (n_samples, ), for example using ravel().\n",
      "  y = column_or_1d(y, warn=True)\n"
     ]
    }
   ],
   "source": [
    "from sklearn.discriminant_analysis import LinearDiscriminantAnalysis\n",
    "lda= LinearDiscriminantAnalysis(n_components =2)\n",
    "#scaler = StandardScaler()\n",
    "#x_scaled = scaler.fit_transform(x)\n",
    "lda.fit(x_scaled,y)\n",
    "x_lda = lda.transform(x_scaled)\n",
    "x_lda = pd.DataFrame(x_lda)\n",
    "x_lda['target'] = y"
   ]
  },
  {
   "cell_type": "code",
   "execution_count": 13,
   "id": "cccff968",
   "metadata": {},
   "outputs": [
    {
     "ename": "SyntaxError",
     "evalue": "invalid syntax (3717891824.py, line 1)",
     "output_type": "error",
     "traceback": [
      "\u001b[0;36m  File \u001b[0;32m\"/tmp/ipykernel_3054289/3717891824.py\"\u001b[0;36m, line \u001b[0;32m1\u001b[0m\n\u001b[0;31m    import sklearn.externals import joblib\u001b[0m\n\u001b[0m                                  ^\u001b[0m\n\u001b[0;31mSyntaxError\u001b[0m\u001b[0;31m:\u001b[0m invalid syntax\n"
     ]
    }
   ],
   "source": [
    "import sklearn.externals import joblib\n",
    "save_model = joblib.dump(lda,'lda.pkl')"
   ]
  },
  {
   "cell_type": "code",
   "execution_count": 14,
   "id": "34bf554c",
   "metadata": {},
   "outputs": [
    {
     "data": {
      "image/png": "[encoded data removed]",
      "text/plain": [
       "<Figure size 720x720 with 1 Axes>"
      ]
     },
     "metadata": {
      "needs_background": "light"
     },
     "output_type": "display_data"
    }
   ],
   "source": [
    "fig = plt.figure(figsize=(10,10))\n",
    "#ax = fig.gca(projection='3d')\n",
    "for i, marker in enumerate(markers) :\n",
    "    x_axis = x_lda[x_lda['target']==i][0]\n",
    "    y_axis = x_lda[x_lda['target']==i][1]\n",
    "    plt.scatter(x_axis,y_axis, marker=marker, label = name[i])\n",
    "\n",
    "plt.legend(loc='lower left')\n",
    "plt.xlabel('component 1')\n",
    "plt.ylabel('component 2')\n",
    "plt.show()"
   ]
  },
  {
   "cell_type": "code",
   "execution_count": null,
   "id": "2cddb8ba",
   "metadata": {},
   "outputs": [],
   "source": []
  }
 ],
 "metadata": {
  "kernelspec": {
   "display_name": "Python 3 (ipykernel)",
   "language": "python",
   "name": "python3"
  },
  "language_info": {
   "codemirror_mode": {
    "name": "ipython",
    "version": 3
   },
   "file_extension": ".py",
   "mimetype": "text/x-python",
   "name": "python",
   "nbconvert_exporter": "python",
   "pygments_lexer": "ipython3",
   "version": "3.7.13"
  }
 },
 "nbformat": 4,
 "nbformat_minor": 5
}
